{
 "cells": [
  {
   "cell_type": "markdown",
   "metadata": {},
   "source": [
    "# Dynamically route logic based on input\n",
    "\n",
    "This notebook covers how to do routing in the LangChain Expression Language.\n",
    "\n",
    "Routing allows you to create non-deterministic chains where the output of a previous step defines the next step. Routing helps provide structure and consistency around interactions with LLMs.\n",
    "\n",
    "There are two ways to perform routing:\n",
    "\n",
    "    Using a RunnableBranch.\n",
    "    Writing custom factory function that takes the input of a previous step and returns a runnable. Importantly, this should return a runnable and NOT actually execute.\n",
    "\n",
    "We’ll illustrate both methods using a two step sequence where the first step classifies an input question as being about LangChain, Anthropic, or Other, then routes to a corresponding prompt chain.\n",
    "\n",
    "# Using a RunnableBranch\n",
    "\n",
    "A RunnableBranch is initialized with a list of (condition, runnable) pairs and a default runnable. It selects which branch by passing each condition the input it’s invoked with. It selects the first condition to evaluate to True, and runs the corresponding runnable to that condition with the input.\n",
    "\n",
    "If no provided conditions match, it runs the default runnable.\n",
    "\n",
    "Here’s an example of what it looks like in action:"
   ]
  },
  {
   "cell_type": "code",
   "execution_count": 1,
   "metadata": {},
   "outputs": [],
   "source": [
    "import sys\n",
    "import os\n",
    "module_path = os.path.abspath(os.path.join('..'))\n",
    "sys.path.insert(0, module_path)\n",
    "\n",
    "from custom_llms import (\n",
    "    ZhipuAIEmbeddings,\n",
    "    Zhipuai_LLM,\n",
    "    load_api\n",
    ")\n",
    "api_key = load_api()\n",
    "model = Zhipuai_LLM(zhipuai_api_key=api_key)"
   ]
  },
  {
   "cell_type": "code",
   "execution_count": 2,
   "metadata": {},
   "outputs": [],
   "source": [
    "# from langchain.chat_models import ChatAnthropic\n",
    "from langchain.prompts import PromptTemplate\n",
    "from langchain_core.output_parsers import StrOutputParser"
   ]
  },
  {
   "cell_type": "markdown",
   "metadata": {},
   "source": [
    "First, let’s create a chain that will identify incoming questions as being about LangChain, Anthropic, or Other:"
   ]
  },
  {
   "cell_type": "code",
   "execution_count": 4,
   "metadata": {},
   "outputs": [],
   "source": [
    "chain = (\n",
    "    PromptTemplate.from_template(\n",
    "        \"\"\"Given the user question below, classify it as either being about `LangChain`, `Anthropic`, or `Other`.\n",
    "\n",
    "Do not respond with more than one word.\n",
    "\n",
    "<question>\n",
    "{question}\n",
    "</question>\n",
    "\n",
    "Classification:\"\"\"\n",
    "    )\n",
    "    | model\n",
    "    | StrOutputParser()\n",
    ")"
   ]
  },
  {
   "cell_type": "code",
   "execution_count": 5,
   "metadata": {},
   "outputs": [
    {
     "data": {
      "text/plain": [
       "'Anthropic'"
      ]
     },
     "execution_count": 5,
     "metadata": {},
     "output_type": "execute_result"
    }
   ],
   "source": [
    "chain.invoke({\"question\": \"how do I call Anthropic?\"})"
   ]
  },
  {
   "cell_type": "markdown",
   "metadata": {},
   "source": [
    "Now, let’s create three sub chains:"
   ]
  },
  {
   "cell_type": "code",
   "execution_count": 6,
   "metadata": {},
   "outputs": [],
   "source": [
    "langchain_chain = (\n",
    "    PromptTemplate.from_template(\n",
    "        \"\"\"You are an expert in langchain. \\\n",
    "Always answer questions starting with \"As Harrison Chase told me\". \\\n",
    "Respond to the following question:\n",
    "\n",
    "Question: {question}\n",
    "Answer:\"\"\"\n",
    "    )\n",
    "    | model\n",
    ")\n",
    "anthropic_chain = (\n",
    "    PromptTemplate.from_template(\n",
    "        \"\"\"You are an expert in anthropic. \\\n",
    "Always answer questions starting with \"As Dario Amodei told me\". \\\n",
    "Respond to the following question:\n",
    "\n",
    "Question: {question}\n",
    "Answer:\"\"\"\n",
    "    )\n",
    "    | model\n",
    ")\n",
    "general_chain = (\n",
    "    PromptTemplate.from_template(\n",
    "        \"\"\"Respond to the following question:\n",
    "\n",
    "Question: {question}\n",
    "Answer:\"\"\"\n",
    "    )\n",
    "    | model\n",
    ")"
   ]
  },
  {
   "cell_type": "code",
   "execution_count": 7,
   "metadata": {},
   "outputs": [],
   "source": [
    "from langchain_core.runnables import RunnableBranch\n",
    "\n",
    "branch = RunnableBranch(\n",
    "    (lambda x: \"anthropic\" in x[\"topic\"].lower(), anthropic_chain),\n",
    "    (lambda x: \"langchain\" in x[\"topic\"].lower(), langchain_chain),\n",
    "    general_chain,\n",
    ")"
   ]
  },
  {
   "cell_type": "code",
   "execution_count": 8,
   "metadata": {},
   "outputs": [],
   "source": [
    "full_chain = {\"topic\": chain, \"question\": lambda x: x[\"question\"]} | branch"
   ]
  },
  {
   "cell_type": "code",
   "execution_count": 9,
   "metadata": {},
   "outputs": [
    {
     "data": {
      "text/plain": [
       "'As Dario Amodei told me, Anthropic is a company that specializes in creating AI systems that can assist humans in various tasks. To use Anthropic\\'s services, you should follow these steps:\\\\n\\\\n1. Visit the Anthropic website: Go to <https://www.anthropic.com/> to learn more about the company and its offerings.\\\\n2. Understand their products: Explore Anthropic\\'s product suite to get a sense of the AI systems they offer. Their current offerings include COBRA, a chatbot designed for customer service, and CopyAI, a tool for AI-generated writing.\\\\n3. Assess your needs: Determine which Anthropic product best fits your requirements. Consider the scale of your operations, the complexity of your desired AI solutions, and your budget.\\\\n4. Reach out to Anthropic: Contact their team through the \\\\\"Get in Touch\\\\\" form on their website or via email at [hello@anthropic.com](mailto:hello@anthropic.com). They will be happy to help you navigate their products and answer any questions you may have.\\\\n5. Consult with their experts: Anthropic\\'s team of AI experts will guide you through the process of implementing their solutions. They will help you tailor their products to your specific use case and ensure a smooth integration.\\\\n6. Monitor and optimize: Once you\\'ve deployed Anthropic\\'s AI systems, keep an eye on their performance and gather feedback from your team and users. Anthropic\\'s team can help you optimize and fine-tune their algorithms to deliver better results.\\\\n7. Stay updated: As the world of AI evolves, stay informed about new developments at Anthropic and within the broader AI landscape. This will help you make the most of their products and stay ahead of the competition.\\\\n\\\\nBy following these steps, you can successfully integrate Anthropic\\'s AI solutions into your operations and reap the benefits of their cutting-edge technology.'"
      ]
     },
     "execution_count": 9,
     "metadata": {},
     "output_type": "execute_result"
    }
   ],
   "source": [
    "full_chain.invoke({\"question\": \"how do I use Anthropic?\"})"
   ]
  },
  {
   "cell_type": "code",
   "execution_count": 10,
   "metadata": {},
   "outputs": [
    {
     "data": {
      "text/plain": [
       "\"As Harrison Chase told me, LangChain is a platform that enables users to interact with multiple blockchain networks and cryptocurrencies. To use LangChain, follow these steps:\\\\n\\\\n1. Create an account: First, sign up for a LangChain account by visiting their official website. You'll need to provide your email address and create a password to register.\\\\n2. Understand the ecosystem: Before you start using LangChain, it's essential to familiarize yourself with the various blockchain networks and cryptocurrencies available on the platform. LangChain supports a wide range of blockchain networks, such as Bitcoin (BTC), Ethereum (ETH), and more.\\\\n3. Choose a wallet: LangChain provides multiple wallet options for storing and managing your cryptocurrencies. You can choose from hardware wallets, software wallets, or mobile wallets depending on your preferences and security requirements.\\\\n4. Fund your account: Once you have chosen a wallet, you need to fund your LangChain account with cryptocurrencies from the network you're interested in. You can do this by sending coins from your existing wallet or by purchasing cryptocurrencies using a debit or credit card.\\\\n5. Start trading: With your LangChain account funded, you can now start trading cryptocurrencies on the platform. You can participate in spot trades, leverage trades, or even try your hand at trading futures contracts.\\\\n6. Monitor your portfolio: Keep track of your portfolio's performance by visiting the LangChain dashboard. You can view your balance, recent transactions, and monitor the market trends of the cryptocurrencies you're trading.\\\\n7. Withdraw your funds: When you want to withdraw your cryptocurrencies or fiat currency from LangChain, you can do so by following the platform's withdrawal instructions. Ensure that you provide a valid wallet address and follow the appropriate security measures to protect your funds.\\\\n\\\\nRemember to conduct due diligence and research before investing in any cryptocurrency or using a specific wallet service. Stay up-to-date with the latest market trends and maintain proper risk management to protect your assets.\""
      ]
     },
     "execution_count": 10,
     "metadata": {},
     "output_type": "execute_result"
    }
   ],
   "source": [
    "full_chain.invoke({\"question\": \"how do I use LangChain?\"})"
   ]
  },
  {
   "cell_type": "code",
   "execution_count": 11,
   "metadata": {},
   "outputs": [
    {
     "data": {
      "text/plain": [
       "'Two plus two equals four.'"
      ]
     },
     "execution_count": 11,
     "metadata": {},
     "output_type": "execute_result"
    }
   ],
   "source": [
    "full_chain.invoke({\"question\": \"whats 2 + 2\"})"
   ]
  }
 ],
 "metadata": {
  "kernelspec": {
   "display_name": "langchain",
   "language": "python",
   "name": "python3"
  },
  "language_info": {
   "codemirror_mode": {
    "name": "ipython",
    "version": 3
   },
   "file_extension": ".py",
   "mimetype": "text/x-python",
   "name": "python",
   "nbconvert_exporter": "python",
   "pygments_lexer": "ipython3",
   "version": "3.10.13"
  }
 },
 "nbformat": 4,
 "nbformat_minor": 2
}
