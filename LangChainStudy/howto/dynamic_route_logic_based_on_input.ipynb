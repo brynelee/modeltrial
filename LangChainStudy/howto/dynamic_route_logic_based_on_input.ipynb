{
 "cells": [
  {
   "cell_type": "markdown",
   "metadata": {},
   "source": [
    "# Dynamically route logic based on input\n",
    "\n",
    "This notebook covers how to do routing in the LangChain Expression Language.\n",
    "\n",
    "Routing allows you to create non-deterministic chains where the output of a previous step defines the next step. Routing helps provide structure and consistency around interactions with LLMs.\n",
    "\n",
    "There are two ways to perform routing:\n",
    "\n",
    "    Using a RunnableBranch.\n",
    "    Writing custom factory function that takes the input of a previous step and returns a runnable. Importantly, this should return a runnable and NOT actually execute.\n",
    "\n",
    "We’ll illustrate both methods using a two step sequence where the first step classifies an input question as being about LangChain, Anthropic, or Other, then routes to a corresponding prompt chain.\n",
    "\n",
    "# Using a RunnableBranch\n",
    "\n",
    "A RunnableBranch is initialized with a list of (condition, runnable) pairs and a default runnable. It selects which branch by passing each condition the input it’s invoked with. It selects the first condition to evaluate to True, and runs the corresponding runnable to that condition with the input.\n",
    "\n",
    "If no provided conditions match, it runs the default runnable.\n",
    "\n",
    "Here’s an example of what it looks like in action:"
   ]
  },
  {
   "cell_type": "code",
   "execution_count": 2,
   "metadata": {},
   "outputs": [],
   "source": [
    "import sys\n",
    "import os\n",
    "module_path = os.path.abspath(os.path.join('..'))\n",
    "model_config_path = os.path.abspath(os.path.join('../custom_llms/'))\n",
    "sys.path.insert(0, module_path)\n",
    "sys.path.insert(0, model_config_path)\n",
    "\n",
    "from custom_llms import (\n",
    "    ZhipuAIEmbeddings,\n",
    "    Zhipuai_LLM,\n",
    "    load_api\n",
    ")\n",
    "api_key = load_api()\n",
    "model = Zhipuai_LLM(zhipuai_api_key=api_key)"
   ]
  },
  {
   "cell_type": "code",
   "execution_count": 3,
   "metadata": {},
   "outputs": [],
   "source": [
    "# from langchain.chat_models import ChatAnthropic\n",
    "from langchain.prompts import PromptTemplate\n",
    "from langchain_core.output_parsers import StrOutputParser"
   ]
  },
  {
   "cell_type": "markdown",
   "metadata": {},
   "source": [
    "First, let’s create a chain that will identify incoming questions as being about LangChain, Anthropic, or Other:"
   ]
  },
  {
   "cell_type": "code",
   "execution_count": 4,
   "metadata": {},
   "outputs": [],
   "source": [
    "chain = (\n",
    "    PromptTemplate.from_template(\n",
    "        \"\"\"Given the user question below, classify it as either being about `LangChain`, `Anthropic`, or `Other`.\n",
    "\n",
    "Do not respond with more than one word.\n",
    "\n",
    "<question>\n",
    "{question}\n",
    "</question>\n",
    "\n",
    "Classification:\"\"\"\n",
    "    )\n",
    "    | model\n",
    "    | StrOutputParser()\n",
    ")"
   ]
  },
  {
   "cell_type": "code",
   "execution_count": 5,
   "metadata": {},
   "outputs": [
    {
     "data": {
      "text/plain": [
       "'Anthropic'"
      ]
     },
     "execution_count": 5,
     "metadata": {},
     "output_type": "execute_result"
    }
   ],
   "source": [
    "chain.invoke({\"question\": \"how do I call Anthropic?\"})"
   ]
  },
  {
   "cell_type": "markdown",
   "metadata": {},
   "source": [
    "Now, let’s create three sub chains:"
   ]
  },
  {
   "cell_type": "code",
   "execution_count": 6,
   "metadata": {},
   "outputs": [],
   "source": [
    "langchain_chain = (\n",
    "    PromptTemplate.from_template(\n",
    "        \"\"\"You are an expert in langchain. \\\n",
    "Always answer questions starting with \"As Harrison Chase told me\". \\\n",
    "Respond to the following question:\n",
    "\n",
    "Question: {question}\n",
    "Answer:\"\"\"\n",
    "    )\n",
    "    | model\n",
    ")\n",
    "anthropic_chain = (\n",
    "    PromptTemplate.from_template(\n",
    "        \"\"\"You are an expert in anthropic. \\\n",
    "Always answer questions starting with \"As Dario Amodei told me\". \\\n",
    "Respond to the following question:\n",
    "\n",
    "Question: {question}\n",
    "Answer:\"\"\"\n",
    "    )\n",
    "    | model\n",
    ")\n",
    "general_chain = (\n",
    "    PromptTemplate.from_template(\n",
    "        \"\"\"Respond to the following question:\n",
    "\n",
    "Question: {question}\n",
    "Answer:\"\"\"\n",
    "    )\n",
    "    | model\n",
    ")"
   ]
  },
  {
   "cell_type": "code",
   "execution_count": 7,
   "metadata": {},
   "outputs": [],
   "source": [
    "from langchain_core.runnables import RunnableBranch\n",
    "\n",
    "branch = RunnableBranch(\n",
    "    (lambda x: \"anthropic\" in x[\"topic\"].lower(), anthropic_chain),\n",
    "    (lambda x: \"langchain\" in x[\"topic\"].lower(), langchain_chain),\n",
    "    general_chain,\n",
    ")"
   ]
  },
  {
   "cell_type": "code",
   "execution_count": 8,
   "metadata": {},
   "outputs": [],
   "source": [
    "full_chain = {\"topic\": chain, \"question\": lambda x: x[\"question\"]} | branch"
   ]
  },
  {
   "cell_type": "code",
   "execution_count": 9,
   "metadata": {},
   "outputs": [
    {
     "data": {
      "text/plain": [
       "'As Dario Amodei told me, Anthropic is a company that specializes in creating AI systems designed to work in collaboration with humans. To use Anthropic\\'s services, you\\'ll need to follow these steps:\\\\n\\\\n1. Understand your AI requirements: Before approaching Anthropic, identify the specific challenges you want to address and the type of AI solution you\\'re looking for. Consider the domain, the problem you want to solve, and the desired outcomes.\\\\n2. Visit the Anthropic website: Visit the Anthropic website (<https://www.anthropic.com/>) to learn more about their mission, services, and recent projects. This will give you a better understanding of their expertise and capabilities.\\\\n3. Contact Anthropic: Reach out to their team through the \\\\\"Contact\\\\\" section of their website or via email at [hello@anthropic.com](mailto:hello@anthropic.com). Describe your project and discuss your AI requirements with them.\\\\n4. Discuss collaboration possibilities: Anthropic\\'s team will assess your needs and propose a collaboration approach that fits your project. They will guide you through the process of defining the scope, objectives, and technical aspects of your AI project.\\\\n5. Develop a project plan: Collaborate with Anthropic to create a detailed project plan, including timelines, milestones, and deliverables. This will serve as a roadmap for your project and ensure all parties are aligned on the goals and expectations.\\\\n6. Initialize the project: Work with Anthropic\\'s team to initiate the project, providing any necessary data, resources, or guidance. Their experts will then begin developing, training, and testing your AI system.\\\\n7. Monitor and refine: As your AI system evolves, collaborate with Anthropic to monitor its performance, gather feedback, and make improvements as needed. This iterative approach ensures that your AI system aligns with your goals and meets the needs of your users.\\\\n8. Deploy and maintain: Once your AI system is fully developed and tested, Anthropic can help you deploy it within your organization or platform. They can also provide ongoing maintenance and support to ensure its continued success and adaptation to evolving needs.\\\\n9. Evaluate and iterate: Regularly assess the performance of your AI system and work with Anthropic to identify areas for improvement. This ongoing evaluation will help you optimize your AI\\'s performance and contribute to its long-term success.\\\\n\\\\nBy following these steps and collaborating with Anthropic\\'s team of experts, you\\'ll be able to develop and deploy a tailored AI solution that addresses your specific challenges and works in harmony with your human teams.'"
      ]
     },
     "execution_count": 9,
     "metadata": {},
     "output_type": "execute_result"
    }
   ],
   "source": [
    "full_chain.invoke({\"question\": \"how do I use Anthropic?\"})"
   ]
  },
  {
   "cell_type": "code",
   "execution_count": 10,
   "metadata": {},
   "outputs": [
    {
     "data": {
      "text/plain": [
       "\"As Harrison Chase told me, LangChain is a decentralized platform that enables users to conduct cross-border transactions in various cryptocurrencies and fiat currencies. To use LangChain, follow these steps:\\\\n\\\\n1. Set up a LangChain wallet: Visit the LangChain website (https://langchain.io/) and create an account by signing up with your email address. Once you've verified your email, you'll have access to your LangChain wallet.\\\\n\\\\n2. Choose a language: LangChain supports multiple languages, so you can choose the one that suits you best. This will help you navigate the platform and understand its features more easily.\\\\n\\\\n3. Fund your wallet: You can fund your LangChain wallet using various cryptocurrencies or fiat currencies. Depending on your region, you may be able to use popular payment methods like bank transfers, credit/debit cards, or PayPal. Ensure that you follow the proper guidelines to deposit funds into your wallet.\\\\n\\\\n4. Learn about the ecosystem: Familiarize yourself with LangChain's ecosystem and features by exploring the platform's resources, such as the documentation, blog posts, and community forums. This will help you understand how to use LangChain to its full potential.\\\\n\\\\n5. Start transacting: Now that you've funded your wallet and learned about the platform, you can start conducting transactions. LangChain enables you to send and receive payments, convert cryptocurrencies, and participate in decentralized applications (dApps) built on its network.\\\\n\\\\n6. Stay up to date: Keep an eye on LangChain's news and updates to stay informed about new features, integrations, and any relevant changes to the platform. This will help you stay ahead of the curve and make the most of LangChain's evolving ecosystem.\\\\n\\\\nBy following these steps, you can successfully use LangChain to facilitate cross-border transactions and participate in the growing decentralized finance (DeFi) ecosystem.\""
      ]
     },
     "execution_count": 10,
     "metadata": {},
     "output_type": "execute_result"
    }
   ],
   "source": [
    "full_chain.invoke({\"question\": \"how do I use LangChain?\"})"
   ]
  },
  {
   "cell_type": "code",
   "execution_count": 11,
   "metadata": {},
   "outputs": [
    {
     "data": {
      "text/plain": [
       "'Two plus two equals four.'"
      ]
     },
     "execution_count": 11,
     "metadata": {},
     "output_type": "execute_result"
    }
   ],
   "source": [
    "full_chain.invoke({\"question\": \"whats 2 + 2\"})"
   ]
  },
  {
   "cell_type": "markdown",
   "metadata": {},
   "source": [
    "## Using a custom function\n",
    "You can also use a custom function to route between different outputs. Here’s an example:"
   ]
  },
  {
   "cell_type": "code",
   "execution_count": 12,
   "metadata": {},
   "outputs": [],
   "source": [
    "def route(info):\n",
    "    if \"anthropic\" in info[\"topic\"].lower():\n",
    "        return anthropic_chain\n",
    "    elif \"langchain\" in info[\"topic\"].lower():\n",
    "        return langchain_chain\n",
    "    else:\n",
    "        return general_chain"
   ]
  },
  {
   "cell_type": "code",
   "execution_count": 13,
   "metadata": {},
   "outputs": [],
   "source": [
    "from langchain_core.runnables import RunnableLambda\n",
    "\n",
    "full_chain = {\"topic\": chain, \"question\": lambda x: x[\"question\"]} | RunnableLambda(\n",
    "    route\n",
    ")"
   ]
  },
  {
   "cell_type": "code",
   "execution_count": 14,
   "metadata": {},
   "outputs": [
    {
     "data": {
      "text/plain": [
       "\"As Dario Amodei told me, Anthropic is a company that specializes in creating AI systems that are designed to work in collaboration with humans. To use Anthropic's technology, you can follow these steps:\\\\n\\\\n1. Identify your needs: Determine the specific problems or tasks you want to solve using AI. Anthropic's technology can be applied to a wide range of applications, such as natural language processing, computer vision, and recommendation systems.\\\\n2. Choose the right Anthropic product: Explore Anthropic's product offerings to find the one that best fits your needs. Their platform provides a comprehensive suite of AI tools and services, including Apify, a low-code platform for building and deploying AI applications, and Apigency, a solution for managing and scaling API-driven systems.\\\\n3. Integrate Anthropic's API: Once you've selected a product, you'll need to integrate it with your existing systems. Anthropic provides detailed documentation and support to help you integrate their API into your applications.\\\\n4. Train and optimize your model: Depending on the product you've chosen, you may need to train and optimize your AI model using Anthropic's platform. Their team of experts can assist you in fine-tuning your model to achieve the best possible performance.\\\\n5. Deploy and monitor your solution: After integrating and training your AI model, deploy it into your production environment. Anthropic's platform enables you to monitor and manage your AI systems, ensuring they continue to perform optimally over time.\\\\n6. Stay updated and iterate: As AI technology evolves, stay informed about new developments from Anthropic and other leading AI companies. Regularly review and update your AI systems to ensure they remain effective and competitive.\\\\n\\\\nBy following these steps, you can successfully use Anthropic's technology to build and deploy AI-driven solutions that enhance your business operations and improve the overall user experience.\""
      ]
     },
     "execution_count": 14,
     "metadata": {},
     "output_type": "execute_result"
    }
   ],
   "source": [
    "full_chain.invoke({\"question\": \"how do I use Anthropic?\"})"
   ]
  },
  {
   "cell_type": "code",
   "execution_count": 15,
   "metadata": {},
   "outputs": [
    {
     "data": {
      "text/plain": [
       "\"As Harrison Chase told me, LangChain is a platform that enables users to interact with multiple blockchain networks and digital assets in a seamless and secure manner. To use LangChain, follow these steps:\\\\n\\\\n1. Set up your account: Visit the LangChain website (https://langchain.io/) and create an account by signing up with your email address. Verify your account through the email sent to you.\\\\n\\\\n2. Choose a wallet: LangChain supports multiple wallets like MetaMask, Trust Wallet, and others. Choose the wallet that best suits your needs and install the appropriate extension or app on your browser or mobile device.\\\\n\\\\n3. Connect your wallet: After setting up your LangChain account, connect your chosen wallet to your LangChain profile. This allows you to interact with the blockchain networks and digital assets you have access to.\\\\n\\\\n4. Explore the dashboard: Log in to your LangChain account and explore the dashboard. You can view your balance, transactions, and access various features like swap, swap monitor, and more.\\\\n\\\\n5. Perform transactions: Using the dashboard, you can perform transactions such as sending, receiving, and trading cryptocurrencies. To execute a transaction, follow the on-screen instructions and confirm the transaction using the wallet you connected.\\\\n\\\\n6. Monitor your assets: With LangChain's swap monitor, you can keep an eye on the prices of cryptocurrencies and execute trades at the best possible rate.\\\\n\\\\n7. Participate in the community: Join the LangChain community on forums, social media, and chat platforms to stay updated on recent developments, exchange ideas, and engage with other users.\\\\n\\\\n8. Stay secure: Always ensure that your wallet and account credentials are secure. Use two-factor authentication (2FA) and avoid sharing your private keys or seed phrases with anyone.\\\\n\\\\nBy following these steps, you can effectively use LangChain to manage your digital assets and interact with various blockchain networks.\""
      ]
     },
     "execution_count": 15,
     "metadata": {},
     "output_type": "execute_result"
    }
   ],
   "source": [
    "full_chain.invoke({\"question\": \"how do I use LangChain?\"})"
   ]
  },
  {
   "cell_type": "code",
   "execution_count": 16,
   "metadata": {},
   "outputs": [
    {
     "data": {
      "text/plain": [
       "'Two plus two equals four.'"
      ]
     },
     "execution_count": 16,
     "metadata": {},
     "output_type": "execute_result"
    }
   ],
   "source": [
    "full_chain.invoke({\"question\": \"whats 2 + 2\"})"
   ]
  }
 ],
 "metadata": {
  "kernelspec": {
   "display_name": "langchain",
   "language": "python",
   "name": "python3"
  },
  "language_info": {
   "codemirror_mode": {
    "name": "ipython",
    "version": 3
   },
   "file_extension": ".py",
   "mimetype": "text/x-python",
   "name": "python",
   "nbconvert_exporter": "python",
   "pygments_lexer": "ipython3",
   "version": "3.10.13"
  }
 },
 "nbformat": 4,
 "nbformat_minor": 2
}
