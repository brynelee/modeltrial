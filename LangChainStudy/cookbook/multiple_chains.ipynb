{
 "cells": [
  {
   "cell_type": "markdown",
   "metadata": {},
   "source": [
    "# Multiple chains\n",
    "\n",
    "Runnables can easily be used to string together multiple Chains"
   ]
  },
  {
   "cell_type": "code",
   "execution_count": 1,
   "metadata": {},
   "outputs": [],
   "source": [
    "import sys\n",
    "import os\n",
    "module_path = os.path.abspath(os.path.join('..'))\n",
    "model_config_path = os.path.abspath(os.path.join('../custom_llms/'))\n",
    "sys.path.insert(0, module_path)\n",
    "sys.path.insert(0, model_config_path)\n",
    "\n",
    "from custom_llms import (\n",
    "    ZhipuAIEmbeddings,\n",
    "    Zhipuai_LLM,\n",
    "    load_api\n",
    ")\n",
    "api_key = load_api()\n",
    "model = Zhipuai_LLM(zhipuai_api_key=api_key)"
   ]
  },
  {
   "cell_type": "code",
   "execution_count": 2,
   "metadata": {},
   "outputs": [
    {
     "data": {
      "text/plain": [
       "'El municipio de Obama proviene de la ciudad de Honolulu, que se encuentra ubicada en Hawaii, Estados Unidos. Nació allí el 4 de agosto de 1961. Sus padres se conocieron y casaron en Honolulu, y pasó gran parte de su infancia allí antes de mudarse a Indonesia y luego regresar a los Estados Unidos para realizar sus estudios superiores.'"
      ]
     },
     "execution_count": 2,
     "metadata": {},
     "output_type": "execute_result"
    }
   ],
   "source": [
    "from operator import itemgetter\n",
    "\n",
    "from langchain.prompts import ChatPromptTemplate\n",
    "from langchain.schema import StrOutputParser\n",
    "\n",
    "prompt1 = ChatPromptTemplate.from_template(\"what is the city {person} is from?\")\n",
    "prompt2 = ChatPromptTemplate.from_template(\n",
    "    \"what country is the city {city} in? respond in {language}\"\n",
    ")\n",
    "\n",
    "chain1 = prompt1 | model | StrOutputParser()\n",
    "\n",
    "chain2 = (\n",
    "    {\"city\": chain1, \"language\": itemgetter(\"language\")}\n",
    "    | prompt2\n",
    "    | model\n",
    "    | StrOutputParser()\n",
    ")\n",
    "\n",
    "chain2.invoke({\"person\": \"obama\", \"language\": \"spanish\"})"
   ]
  },
  {
   "cell_type": "code",
   "execution_count": 3,
   "metadata": {},
   "outputs": [],
   "source": [
    "from langchain_core.runnables import RunnablePassthrough\n",
    "\n",
    "prompt1 = ChatPromptTemplate.from_template(\n",
    "    \"generate a {attribute} color. Return the name of the color and nothing else:\"\n",
    ")\n",
    "prompt2 = ChatPromptTemplate.from_template(\n",
    "    \"what is a fruit of color: {color}. Return the name of the fruit and nothing else:\"\n",
    ")\n",
    "prompt3 = ChatPromptTemplate.from_template(\n",
    "    \"what is a country with a flag that has the color: {color}. Return the name of the country and nothing else:\"\n",
    ")\n",
    "prompt4 = ChatPromptTemplate.from_template(\n",
    "    \"What is the color of {fruit} and the flag of {country}?\"\n",
    ")\n",
    "\n",
    "model_parser = model | StrOutputParser()\n",
    "\n",
    "color_generator = (\n",
    "    {\"attribute\": RunnablePassthrough()} | prompt1 | {\"color\": model_parser}\n",
    ")\n",
    "color_to_fruit = prompt2 | model_parser\n",
    "color_to_country = prompt3 | model_parser\n",
    "question_generator = (\n",
    "    color_generator | {\"fruit\": color_to_fruit, \"country\": color_to_country} | prompt4\n",
    ")"
   ]
  },
  {
   "cell_type": "code",
   "execution_count": 4,
   "metadata": {},
   "outputs": [
    {
     "data": {
      "text/plain": [
       "ChatPromptValue(messages=[HumanMessage(content='What is the color of Peach and the flag of The country with a flag containing a peachy pink color is Libya.?')])"
      ]
     },
     "execution_count": 4,
     "metadata": {},
     "output_type": "execute_result"
    }
   ],
   "source": [
    "question_generator.invoke(\"warm\")"
   ]
  },
  {
   "cell_type": "code",
   "execution_count": 5,
   "metadata": {},
   "outputs": [
    {
     "data": {
      "text/plain": [
       "\"The color of coral fruit refers to the vibrant orange-pink hue of the fruit itself. The Republic of Maldives' flag features three horizontal bands of color: red, representing the Maldives' revolution; green, symbolizing Islam; and white, standing for peace and unity. While coral is not explicitly represented in the flag, it is often associated with the Maldives' beautiful coral reefs, which contribute to the country's renowned underwater beauty.\""
      ]
     },
     "execution_count": 5,
     "metadata": {},
     "output_type": "execute_result"
    }
   ],
   "source": [
    "prompt = question_generator.invoke(\"warm\")\n",
    "model.invoke(prompt)"
   ]
  },
  {
   "cell_type": "markdown",
   "metadata": {},
   "source": [
    "## Branching and Merging\n",
    "You may want the output of one component to be processed by 2 or more other components. RunnableParallels let you split or fork the chain so multiple components can process the input in parallel. Later, other components can join or merge the results to synthesize a final response. This type of chain creates a computation graph that looks like the following:"
   ]
  },
  {
   "cell_type": "markdown",
   "metadata": {},
   "source": [
    "     Input\n",
    "      / \\\n",
    "     /   \\\n",
    " Branch1 Branch2\n",
    "     \\   /\n",
    "      \\ /\n",
    "      Combine"
   ]
  },
  {
   "cell_type": "code",
   "execution_count": 6,
   "metadata": {},
   "outputs": [],
   "source": [
    "planner = (\n",
    "    ChatPromptTemplate.from_template(\"Generate an argument about: {input}\")\n",
    "    | model\n",
    "    | StrOutputParser()\n",
    "    | {\"base_response\": RunnablePassthrough()}\n",
    ")\n",
    "\n",
    "arguments_for = (\n",
    "    ChatPromptTemplate.from_template(\n",
    "        \"List the pros or positive aspects of {base_response}\"\n",
    "    )\n",
    "    | model\n",
    "    | StrOutputParser()\n",
    ")\n",
    "arguments_against = (\n",
    "    ChatPromptTemplate.from_template(\n",
    "        \"List the cons or negative aspects of {base_response}\"\n",
    "    )\n",
    "    | model\n",
    "    | StrOutputParser()\n",
    ")\n",
    "\n",
    "final_responder = (\n",
    "    ChatPromptTemplate.from_messages(\n",
    "        [\n",
    "            (\"ai\", \"{original_response}\"),\n",
    "            (\"human\", \"Pros:\\n{results_1}\\n\\nCons:\\n{results_2}\"),\n",
    "            (\"system\", \"Generate a final response given the critique\"),\n",
    "        ]\n",
    "    )\n",
    "    | model\n",
    "    | StrOutputParser()\n",
    ")\n",
    "\n",
    "chain = (\n",
    "    planner\n",
    "    | {\n",
    "        \"results_1\": arguments_for,\n",
    "        \"results_2\": arguments_against,\n",
    "        \"original_response\": itemgetter(\"base_response\"),\n",
    "    }\n",
    "    | final_responder\n",
    ")"
   ]
  },
  {
   "cell_type": "code",
   "execution_count": 7,
   "metadata": {},
   "outputs": [
    {
     "data": {
      "text/plain": [
       "\"System: Title: A Balanced Perspective on Implementing Scrum: A Critique and Response\\\\\\\\n\\\\\\\\nAfter carefully considering the pros and cons of implementing Scrum, it becomes evident that while the methodology offers numerous benefits such as increased collaboration, task prioritization, and faster product delivery, it also has its share of drawbacks like inflexibility, overreliance on ceremonies, limited scalability, and potential mismanagement. To ensure a successful implementation and improved project management, organizations should weigh the advantages and disadvantages and adapt the Scrum framework accordingly.\\\\\\\\n\\\\\\\\nResponse:\\\\\\\\n\\\\\\\\n1. Flexibility and adaptability: To address the issue of inflexibility in the face of changing requirements, organizations can adopt a hybrid approach that combines Scrum with other methodologies like Kanban or DevOps. This enables teams to respond quickly to changing business requirements while still benefiting from the structure and predictability of Scrum.\\\\\\\\n2. Streamlining ceremonies: To reduce the burden of ceremonies, organizations can strive for efficiency and minimize the complexity of these events. Focusing on the essential aspects of each ceremony and maintaining a balance between ceremony duration and actual worktime can help ensure that ceremonies contribute positively to the project management process.\\\\\\\\n3. Scalability and large-scale projects: To address the limited scalability issue, organizations can adopt Scrum in a flexible manner, allowing for adjustments in the sprint duration, team size, and ceremony structure based on the specific requirements of large-scale projects. Implementing Scrum in a hierarchical manner, with multiple layers of teams and stakeholders, can also help accommodate the intricacies and interdependencies of larger projects.\\\\\\\\n4. Avoiding mismanagement: To prevent mismanagement, organizations should invest in comprehensive training and support for team members and stakeholders. This ensures that everyone understands the Scrum framework and its objectives, leading to more effective implementation and greater alignment with organizational goals.\\\\\\\\n5. Workload management and team care: To mitigate the increased workload on team members, organizations can implement policies that promote work-life balance, provide adequate rest periods, and offer regular feedback and support to prevent burnout and maintain motivation.\\\\\\\\n6. Progress measurement and long-term goals: To address the difficulty in measuring progress, organizations can complement the iterative approach of Scrum with strategic planning and long-term vision. By setting clear, measurable objectives and monitoring progress against these goals, organizations can ensure that short-term sprints contribute to the overall project's impact and long-term success.\\\\\\\\n7. Cultural compatibility and leadership: To ensure compatibility with organizational culture, organizations can tailor the implementation of Scrum to align with their existing values and practices. Strong leadership is crucial to maintain the right balance between adherence to the framework and adaptability to unique project requirements.\\\\\\\\n8. Knowledge gap reduction: To minimize knowledge gaps within the team, organizations can provide ongoing training and mentorship programs that ensure all team members are well-versed in the Scrum methodology. This investment in knowledge transfer can help create a more cohesive and productive team.\\\\\\\\n9. Cost-effective implementation: To manage the cost of training and ongoing support, organizations can adopt cost-effective strategies such as internal training programs, leveraging online resources, and promoting knowledge-sharing within the organization.\\\\\\\\\\\\\\\\\\\\\\\\n\\\\\\\\nBy addressing these concerns and adapting the Scrum framework accordingly, organizations can harness the full potential of Scrum while minimizing its drawbacks. With the right balance of flexibility, adaptability, and strong leadership, Scrum can become a valuable tool for improving project management and driving organizational success.\""
      ]
     },
     "execution_count": 7,
     "metadata": {},
     "output_type": "execute_result"
    }
   ],
   "source": [
    "chain.invoke({\"input\": \"scrum\"})"
   ]
  }
 ],
 "metadata": {
  "kernelspec": {
   "display_name": "langchain",
   "language": "python",
   "name": "python3"
  },
  "language_info": {
   "codemirror_mode": {
    "name": "ipython",
    "version": 3
   },
   "file_extension": ".py",
   "mimetype": "text/x-python",
   "name": "python",
   "nbconvert_exporter": "python",
   "pygments_lexer": "ipython3",
   "version": "3.10.13"
  }
 },
 "nbformat": 4,
 "nbformat_minor": 2
}
