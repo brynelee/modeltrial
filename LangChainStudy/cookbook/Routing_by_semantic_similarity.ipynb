{
 "cells": [
  {
   "cell_type": "markdown",
   "metadata": {},
   "source": [
    "# Routing by semantic similarity\n",
    "\n",
    "With LCEL you can easily add custom routing logic to your chain to dynamically determine the chain logic based on user input. All you need to do is define a function that given an input returns a Runnable.\n",
    "\n",
    "One especially useful technique is to use embeddings to route a query to the most relevant prompt. Here’s a very simple example."
   ]
  },
  {
   "cell_type": "code",
   "execution_count": 1,
   "metadata": {},
   "outputs": [],
   "source": [
    "import sys\n",
    "import os\n",
    "module_path = os.path.abspath(os.path.join('..'))\n",
    "model_config_path = os.path.abspath(os.path.join('../custom_llms/'))\n",
    "sys.path.insert(0, module_path)\n",
    "sys.path.insert(0, model_config_path)\n",
    "\n",
    "from custom_llms import (\n",
    "    ZhipuAIEmbeddings,\n",
    "    Zhipuai_LLM,\n",
    "    load_api\n",
    ")\n",
    "api_key = load_api()\n",
    "model = Zhipuai_LLM(zhipuai_api_key=api_key)"
   ]
  },
  {
   "cell_type": "code",
   "execution_count": 2,
   "metadata": {},
   "outputs": [],
   "source": [
    "from langchain.prompts import PromptTemplate\n",
    "from langchain.utils.math import cosine_similarity\n",
    "from langchain_core.output_parsers import StrOutputParser\n",
    "from langchain_core.runnables import RunnableLambda, RunnablePassthrough\n",
    "\n",
    "physics_template = \"\"\"You are a very smart physics professor. \\\n",
    "You are great at answering questions about physics in a concise and easy to understand manner. \\\n",
    "When you don't know the answer to a question you admit that you don't know.\n",
    "\n",
    "Here is a question:\n",
    "{query}\"\"\"\n",
    "\n",
    "math_template = \"\"\"You are a very good mathematician. You are great at answering math questions. \\\n",
    "You are so good because you are able to break down hard problems into their component parts, \\\n",
    "answer the component parts, and then put them together to answer the broader question.\n",
    "\n",
    "Here is a question:\n",
    "{query}\"\"\"\n",
    "\n",
    "embeddings = ZhipuAIEmbeddings()\n",
    "prompt_templates = [physics_template, math_template]\n",
    "prompt_embeddings = embeddings.embed_documents(prompt_templates)\n",
    "\n",
    "\n",
    "def prompt_router(input):\n",
    "    query_embedding = embeddings.embed_query(input[\"query\"])\n",
    "    similarity = cosine_similarity([query_embedding], prompt_embeddings)[0]\n",
    "    most_similar = prompt_templates[similarity.argmax()]\n",
    "    print(\"Using MATH\" if most_similar == math_template else \"Using PHYSICS\")\n",
    "    return PromptTemplate.from_template(most_similar)\n",
    "\n",
    "\n",
    "chain = (\n",
    "    {\"query\": RunnablePassthrough()}\n",
    "    | RunnableLambda(prompt_router)\n",
    "    | model\n",
    "    | StrOutputParser()\n",
    ")"
   ]
  },
  {
   "cell_type": "code",
   "execution_count": 3,
   "metadata": {},
   "outputs": [
    {
     "name": "stdout",
     "output_type": "stream",
     "text": [
      "Using PHYSICS\n",
      "A black hole is a region of spacetime from which nothing, including light, can escape. It forms when a massive object collapses to such a small volume that its gravitational pull becomes infinitely strong. This extreme gravity means that anything approaching the black hole, including light, is pulled toward its center with such force that it can't escape.\\n\\nBlack holes come in various sizes and are classified based on their mass and charge. The largest and most massive black holes are found at the center of galaxies, while smaller ones can be found throughout the universe. Black holes are among the most extreme objects in physics, with their properties challenging our understanding of gravity and spacetime.\n"
     ]
    }
   ],
   "source": [
    "print(chain.invoke(\"What's a black hole\"))"
   ]
  },
  {
   "cell_type": "code",
   "execution_count": 4,
   "metadata": {},
   "outputs": [
    {
     "name": "stdout",
     "output_type": "stream",
     "text": [
      "Using MATH\n",
      "As an AI language model, I'm happy to help you understand path integrals. A path integral is a mathematical concept originating in physics, particularly in the field of quantum mechanics. It is used to describe the probability of a system evolving from one state to another through a series of intermediate states. The concept is often illustrated using the metaphor of a path, hence the name \\\"path integral.\\\"\\n\\nTo explain path integrals more formally, let's start with the quantum mechanical formalism. In quantum mechanics, the probability of a system evolving from a initial state |Ψ⟩ to a final state |Φ⟩ can be represented as:\\n\\nP(Ψ→Φ) = |⟨Φ|Ψ⟩|²\\n\\nwhere |Ψ⟩ and |Φ⟩ are column vectors containing the wave functions of the initial and final states, respectively, and |⟨Φ|Ψ⟩| is the scalar product (also known as the inner product) between these vectors.\\n\\nNow, imagine that the system evolves through a series of intermediate states |Ψ_i⟩ along the way, forming a path. The probability of this path can be expressed as the product of the probabilities of evolving from each intermediate state to the next:\\n\\nP(Ψ→Ψ_1→Ψ_2→…→Φ) = P(Ψ→Ψ_1) × P(Ψ_1→Ψ_2) × … × P(Ψ_n→Φ)\\n\\nHowever, calculating these individual probabilities explicitly can be computationally expensive, especially for complex systems. To simplify this problem, physicists introduced the concept of the path integral.\\n\\nThe path integral represents the probability of a system evolving from the initial state |Ψ⟩ to the final state |Φ⟩ by summing (or integrating) over all possible paths (or trajectories) that the system could take:\\n\\nP(Ψ→Φ) = ∫[dΨ*dΦ * exp(-S(Ψ,Φ))]\\n\\nHere, dΨ* and dΦ are the respective phase space volumes associated with the initial and final states, and S(Ψ,Φ) is the action functional, which describes the amount of work done by the system as it evolves from |Ψ⟩ to |Φ⟩. The integral runs over all possible paths connecting |Ψ⟩ and |Φ⟩.\\n\\nThe path integral is a powerful tool for calculating probabilities in quantum mechanics, particularly when dealing with complex systems. It allows researchers to efficiently represent and analyze the behavior of systems by averaging over all possible trajectories. Importantly, the path integral formalism has found applications in various fields, including quantum field theory, condensed matter physics, and high-energy physics.\n"
     ]
    }
   ],
   "source": [
    "print(chain.invoke(\"What's a path integral\"))"
   ]
  }
 ],
 "metadata": {
  "kernelspec": {
   "display_name": "langchain",
   "language": "python",
   "name": "python3"
  },
  "language_info": {
   "codemirror_mode": {
    "name": "ipython",
    "version": 3
   },
   "file_extension": ".py",
   "mimetype": "text/x-python",
   "name": "python",
   "nbconvert_exporter": "python",
   "pygments_lexer": "ipython3",
   "version": "3.10.13"
  }
 },
 "nbformat": 4,
 "nbformat_minor": 2
}
