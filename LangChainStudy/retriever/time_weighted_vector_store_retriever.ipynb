{
 "cells": [
  {
   "cell_type": "markdown",
   "metadata": {},
   "source": [
    "# Time-weighted vector store retriever\n",
    "\n",
    "This retriever uses a combination of semantic similarity and a time decay.\n",
    "\n",
    "The algorithm for scoring them is:\n",
    "\n",
    "semantic_similarity + (1.0 - decay_rate) ^ hours_passed\n",
    "\n",
    "Notably, hours_passed refers to the hours passed since the object in the retriever was last accessed, not since it was created. This means that frequently accessed objects remain \"fresh\"."
   ]
  },
  {
   "cell_type": "code",
   "execution_count": 2,
   "metadata": {},
   "outputs": [
    {
     "name": "stderr",
     "output_type": "stream",
     "text": [
      "d:\\anaconda3\\envs\\langchain\\lib\\site-packages\\tqdm\\auto.py:21: TqdmWarning: IProgress not found. Please update jupyter and ipywidgets. See https://ipywidgets.readthedocs.io/en/stable/user_install.html\n",
      "  from .autonotebook import tqdm as notebook_tqdm\n"
     ]
    }
   ],
   "source": [
    "import faiss\n",
    "\n",
    "from datetime import datetime, timedelta\n",
    "from langchain.docstore import InMemoryDocstore\n",
    "# from langchain.embeddings import OpenAIEmbeddings\n",
    "from langchain.retrievers import TimeWeightedVectorStoreRetriever\n",
    "from langchain.schema import Document\n",
    "from langchain.vectorstores import FAISS\n",
    "\n",
    "from langchain.embeddings import HuggingFaceEmbeddings\n",
    "embedding_model = HuggingFaceEmbeddings(model_name = \"moka-ai/m3e-base\")"
   ]
  },
  {
   "cell_type": "markdown",
   "metadata": {},
   "source": [
    "## Low decay rate\n",
    "A low decay rate (in this, to be extreme, we will set it close to 0) means memories will be \"remembered\" for longer. A decay rate of 0 means memories never be forgotten, making this retriever equivalent to the vector lookup."
   ]
  },
  {
   "cell_type": "code",
   "execution_count": 9,
   "metadata": {},
   "outputs": [],
   "source": [
    "# Define your embedding model\n",
    "# embeddings_model = OpenAIEmbeddings()\n",
    "# Initialize the vectorstore as empty\n",
    "# embedding_size = 1536\n",
    "# index = faiss.IndexFlatL2(embedding_size)\n",
    "index = faiss.IndexFlatL2()\n",
    "vectorstore = FAISS(embedding_model, index, InMemoryDocstore({}), {})\n",
    "retriever = TimeWeightedVectorStoreRetriever(vectorstore=vectorstore, decay_rate=.0000000000000000000000001, k=1)"
   ]
  },
  {
   "cell_type": "code",
   "execution_count": 10,
   "metadata": {},
   "outputs": [
    {
     "ename": "AssertionError",
     "evalue": "",
     "output_type": "error",
     "traceback": [
      "\u001b[1;31m---------------------------------------------------------------------------\u001b[0m",
      "\u001b[1;31mAssertionError\u001b[0m                            Traceback (most recent call last)",
      "\u001b[1;32md:\\Gitroot\\modeltrial\\LangChainStudy\\retriever\\time_weighted_vector_store_retriever.ipynb Cell 5\u001b[0m line \u001b[0;36m2\n\u001b[0;32m      <a href='vscode-notebook-cell:/d%3A/Gitroot/modeltrial/LangChainStudy/retriever/time_weighted_vector_store_retriever.ipynb#W4sZmlsZQ%3D%3D?line=0'>1</a>\u001b[0m yesterday \u001b[39m=\u001b[39m datetime\u001b[39m.\u001b[39mnow() \u001b[39m-\u001b[39m timedelta(days\u001b[39m=\u001b[39m\u001b[39m1\u001b[39m)\n\u001b[1;32m----> <a href='vscode-notebook-cell:/d%3A/Gitroot/modeltrial/LangChainStudy/retriever/time_weighted_vector_store_retriever.ipynb#W4sZmlsZQ%3D%3D?line=1'>2</a>\u001b[0m retriever\u001b[39m.\u001b[39;49madd_documents([Document(page_content\u001b[39m=\u001b[39;49m\u001b[39m\"\u001b[39;49m\u001b[39mhello world\u001b[39;49m\u001b[39m\"\u001b[39;49m, metadata\u001b[39m=\u001b[39;49m{\u001b[39m\"\u001b[39;49m\u001b[39mlast_accessed_at\u001b[39;49m\u001b[39m\"\u001b[39;49m: yesterday})])\n\u001b[0;32m      <a href='vscode-notebook-cell:/d%3A/Gitroot/modeltrial/LangChainStudy/retriever/time_weighted_vector_store_retriever.ipynb#W4sZmlsZQ%3D%3D?line=2'>3</a>\u001b[0m retriever\u001b[39m.\u001b[39madd_documents([Document(page_content\u001b[39m=\u001b[39m\u001b[39m\"\u001b[39m\u001b[39mhello foo\u001b[39m\u001b[39m\"\u001b[39m)])\n",
      "File \u001b[1;32md:\\anaconda3\\envs\\langchain\\lib\\site-packages\\langchain\\retrievers\\time_weighted_retriever.py:132\u001b[0m, in \u001b[0;36mTimeWeightedVectorStoreRetriever.add_documents\u001b[1;34m(self, documents, **kwargs)\u001b[0m\n\u001b[0;32m    130\u001b[0m     doc\u001b[39m.\u001b[39mmetadata[\u001b[39m\"\u001b[39m\u001b[39mbuffer_idx\u001b[39m\u001b[39m\"\u001b[39m] \u001b[39m=\u001b[39m \u001b[39mlen\u001b[39m(\u001b[39mself\u001b[39m\u001b[39m.\u001b[39mmemory_stream) \u001b[39m+\u001b[39m i\n\u001b[0;32m    131\u001b[0m \u001b[39mself\u001b[39m\u001b[39m.\u001b[39mmemory_stream\u001b[39m.\u001b[39mextend(dup_docs)\n\u001b[1;32m--> 132\u001b[0m \u001b[39mreturn\u001b[39;00m \u001b[39mself\u001b[39m\u001b[39m.\u001b[39mvectorstore\u001b[39m.\u001b[39madd_documents(dup_docs, \u001b[39m*\u001b[39m\u001b[39m*\u001b[39mkwargs)\n",
      "File \u001b[1;32md:\\anaconda3\\envs\\langchain\\lib\\site-packages\\langchain_core\\vectorstores.py:122\u001b[0m, in \u001b[0;36mVectorStore.add_documents\u001b[1;34m(self, documents, **kwargs)\u001b[0m\n\u001b[0;32m    120\u001b[0m texts \u001b[39m=\u001b[39m [doc\u001b[39m.\u001b[39mpage_content \u001b[39mfor\u001b[39;00m doc \u001b[39min\u001b[39;00m documents]\n\u001b[0;32m    121\u001b[0m metadatas \u001b[39m=\u001b[39m [doc\u001b[39m.\u001b[39mmetadata \u001b[39mfor\u001b[39;00m doc \u001b[39min\u001b[39;00m documents]\n\u001b[1;32m--> 122\u001b[0m \u001b[39mreturn\u001b[39;00m \u001b[39mself\u001b[39m\u001b[39m.\u001b[39madd_texts(texts, metadatas, \u001b[39m*\u001b[39m\u001b[39m*\u001b[39mkwargs)\n",
      "File \u001b[1;32md:\\anaconda3\\envs\\langchain\\lib\\site-packages\\langchain\\vectorstores\\faiss.py:224\u001b[0m, in \u001b[0;36mFAISS.add_texts\u001b[1;34m(self, texts, metadatas, ids, **kwargs)\u001b[0m\n\u001b[0;32m    222\u001b[0m texts \u001b[39m=\u001b[39m \u001b[39mlist\u001b[39m(texts)\n\u001b[0;32m    223\u001b[0m embeddings \u001b[39m=\u001b[39m \u001b[39mself\u001b[39m\u001b[39m.\u001b[39m_embed_documents(texts)\n\u001b[1;32m--> 224\u001b[0m \u001b[39mreturn\u001b[39;00m \u001b[39mself\u001b[39;49m\u001b[39m.\u001b[39;49m__add(texts, embeddings, metadatas\u001b[39m=\u001b[39;49mmetadatas, ids\u001b[39m=\u001b[39;49mids)\n",
      "File \u001b[1;32md:\\anaconda3\\envs\\langchain\\lib\\site-packages\\langchain\\vectorstores\\faiss.py:195\u001b[0m, in \u001b[0;36mFAISS.__add\u001b[1;34m(self, texts, embeddings, metadatas, ids)\u001b[0m\n\u001b[0;32m    193\u001b[0m \u001b[39mif\u001b[39;00m \u001b[39mself\u001b[39m\u001b[39m.\u001b[39m_normalize_L2:\n\u001b[0;32m    194\u001b[0m     faiss\u001b[39m.\u001b[39mnormalize_L2(vector)\n\u001b[1;32m--> 195\u001b[0m \u001b[39mself\u001b[39;49m\u001b[39m.\u001b[39;49mindex\u001b[39m.\u001b[39;49madd(vector)\n\u001b[0;32m    197\u001b[0m \u001b[39m# Add information to docstore and index.\u001b[39;00m\n\u001b[0;32m    198\u001b[0m ids \u001b[39m=\u001b[39m ids \u001b[39mor\u001b[39;00m [\u001b[39mstr\u001b[39m(uuid\u001b[39m.\u001b[39muuid4()) \u001b[39mfor\u001b[39;00m _ \u001b[39min\u001b[39;00m texts]\n",
      "File \u001b[1;32md:\\anaconda3\\envs\\langchain\\lib\\site-packages\\faiss\\class_wrappers.py:228\u001b[0m, in \u001b[0;36mhandle_Index.<locals>.replacement_add\u001b[1;34m(self, x)\u001b[0m\n\u001b[0;32m    215\u001b[0m \u001b[39m\u001b[39m\u001b[39m\"\"\"Adds vectors to the index.\u001b[39;00m\n\u001b[0;32m    216\u001b[0m \u001b[39mThe index must be trained before vectors can be added to it.\u001b[39;00m\n\u001b[0;32m    217\u001b[0m \u001b[39mThe vectors are implicitly numbered in sequence. When `n` vectors are\u001b[39;00m\n\u001b[1;32m   (...)\u001b[0m\n\u001b[0;32m    224\u001b[0m \u001b[39m    `dtype` must be float32.\u001b[39;00m\n\u001b[0;32m    225\u001b[0m \u001b[39m\"\"\"\u001b[39;00m\n\u001b[0;32m    227\u001b[0m n, d \u001b[39m=\u001b[39m x\u001b[39m.\u001b[39mshape\n\u001b[1;32m--> 228\u001b[0m \u001b[39massert\u001b[39;00m d \u001b[39m==\u001b[39m \u001b[39mself\u001b[39m\u001b[39m.\u001b[39md\n\u001b[0;32m    229\u001b[0m x \u001b[39m=\u001b[39m np\u001b[39m.\u001b[39mascontiguousarray(x, dtype\u001b[39m=\u001b[39m\u001b[39m'\u001b[39m\u001b[39mfloat32\u001b[39m\u001b[39m'\u001b[39m)\n\u001b[0;32m    230\u001b[0m \u001b[39mself\u001b[39m\u001b[39m.\u001b[39madd_c(n, swig_ptr(x))\n",
      "\u001b[1;31mAssertionError\u001b[0m: "
     ]
    }
   ],
   "source": [
    "yesterday = datetime.now() - timedelta(days=1)\n",
    "retriever.add_documents([Document(page_content=\"hello world\", metadata={\"last_accessed_at\": yesterday})])\n",
    "retriever.add_documents([Document(page_content=\"hello foo\")])"
   ]
  },
  {
   "cell_type": "code",
   "execution_count": 11,
   "metadata": {},
   "outputs": [
    {
     "ename": "AssertionError",
     "evalue": "",
     "output_type": "error",
     "traceback": [
      "\u001b[1;31m---------------------------------------------------------------------------\u001b[0m",
      "\u001b[1;31mAssertionError\u001b[0m                            Traceback (most recent call last)",
      "\u001b[1;32md:\\Gitroot\\modeltrial\\LangChainStudy\\retriever\\time_weighted_vector_store_retriever.ipynb Cell 6\u001b[0m line \u001b[0;36m2\n\u001b[0;32m      <a href='vscode-notebook-cell:/d%3A/Gitroot/modeltrial/LangChainStudy/retriever/time_weighted_vector_store_retriever.ipynb#W5sZmlsZQ%3D%3D?line=0'>1</a>\u001b[0m \u001b[39m# \"Hello World\" is returned first because it is most salient, and the decay rate is close to 0., meaning it's still recent enough\u001b[39;00m\n\u001b[1;32m----> <a href='vscode-notebook-cell:/d%3A/Gitroot/modeltrial/LangChainStudy/retriever/time_weighted_vector_store_retriever.ipynb#W5sZmlsZQ%3D%3D?line=1'>2</a>\u001b[0m retriever\u001b[39m.\u001b[39;49mget_relevant_documents(\u001b[39m\"\u001b[39;49m\u001b[39mhello world\u001b[39;49m\u001b[39m\"\u001b[39;49m)\n",
      "File \u001b[1;32md:\\anaconda3\\envs\\langchain\\lib\\site-packages\\langchain_core\\retrievers.py:211\u001b[0m, in \u001b[0;36mBaseRetriever.get_relevant_documents\u001b[1;34m(self, query, callbacks, tags, metadata, run_name, **kwargs)\u001b[0m\n\u001b[0;32m    209\u001b[0m \u001b[39mexcept\u001b[39;00m \u001b[39mException\u001b[39;00m \u001b[39mas\u001b[39;00m e:\n\u001b[0;32m    210\u001b[0m     run_manager\u001b[39m.\u001b[39mon_retriever_error(e)\n\u001b[1;32m--> 211\u001b[0m     \u001b[39mraise\u001b[39;00m e\n\u001b[0;32m    212\u001b[0m \u001b[39melse\u001b[39;00m:\n\u001b[0;32m    213\u001b[0m     run_manager\u001b[39m.\u001b[39mon_retriever_end(\n\u001b[0;32m    214\u001b[0m         result,\n\u001b[0;32m    215\u001b[0m         \u001b[39m*\u001b[39m\u001b[39m*\u001b[39mkwargs,\n\u001b[0;32m    216\u001b[0m     )\n",
      "File \u001b[1;32md:\\anaconda3\\envs\\langchain\\lib\\site-packages\\langchain_core\\retrievers.py:204\u001b[0m, in \u001b[0;36mBaseRetriever.get_relevant_documents\u001b[1;34m(self, query, callbacks, tags, metadata, run_name, **kwargs)\u001b[0m\n\u001b[0;32m    202\u001b[0m _kwargs \u001b[39m=\u001b[39m kwargs \u001b[39mif\u001b[39;00m \u001b[39mself\u001b[39m\u001b[39m.\u001b[39m_expects_other_args \u001b[39melse\u001b[39;00m {}\n\u001b[0;32m    203\u001b[0m \u001b[39mif\u001b[39;00m \u001b[39mself\u001b[39m\u001b[39m.\u001b[39m_new_arg_supported:\n\u001b[1;32m--> 204\u001b[0m     result \u001b[39m=\u001b[39m \u001b[39mself\u001b[39m\u001b[39m.\u001b[39m_get_relevant_documents(\n\u001b[0;32m    205\u001b[0m         query, run_manager\u001b[39m=\u001b[39mrun_manager, \u001b[39m*\u001b[39m\u001b[39m*\u001b[39m_kwargs\n\u001b[0;32m    206\u001b[0m     )\n\u001b[0;32m    207\u001b[0m \u001b[39melse\u001b[39;00m:\n\u001b[0;32m    208\u001b[0m     result \u001b[39m=\u001b[39m \u001b[39mself\u001b[39m\u001b[39m.\u001b[39m_get_relevant_documents(query, \u001b[39m*\u001b[39m\u001b[39m*\u001b[39m_kwargs)\n",
      "File \u001b[1;32md:\\anaconda3\\envs\\langchain\\lib\\site-packages\\langchain\\retrievers\\time_weighted_retriever.py:103\u001b[0m, in \u001b[0;36mTimeWeightedVectorStoreRetriever._get_relevant_documents\u001b[1;34m(self, query, run_manager)\u001b[0m\n\u001b[0;32m     98\u001b[0m docs_and_scores \u001b[39m=\u001b[39m {\n\u001b[0;32m     99\u001b[0m     doc\u001b[39m.\u001b[39mmetadata[\u001b[39m\"\u001b[39m\u001b[39mbuffer_idx\u001b[39m\u001b[39m\"\u001b[39m]: (doc, \u001b[39mself\u001b[39m\u001b[39m.\u001b[39mdefault_salience)\n\u001b[0;32m    100\u001b[0m     \u001b[39mfor\u001b[39;00m doc \u001b[39min\u001b[39;00m \u001b[39mself\u001b[39m\u001b[39m.\u001b[39mmemory_stream[\u001b[39m-\u001b[39m\u001b[39mself\u001b[39m\u001b[39m.\u001b[39mk :]\n\u001b[0;32m    101\u001b[0m }\n\u001b[0;32m    102\u001b[0m \u001b[39m# If a doc is considered salient, update the salience score\u001b[39;00m\n\u001b[1;32m--> 103\u001b[0m docs_and_scores\u001b[39m.\u001b[39mupdate(\u001b[39mself\u001b[39;49m\u001b[39m.\u001b[39;49mget_salient_docs(query))\n\u001b[0;32m    104\u001b[0m rescored_docs \u001b[39m=\u001b[39m [\n\u001b[0;32m    105\u001b[0m     (doc, \u001b[39mself\u001b[39m\u001b[39m.\u001b[39m_get_combined_score(doc, relevance, current_time))\n\u001b[0;32m    106\u001b[0m     \u001b[39mfor\u001b[39;00m doc, relevance \u001b[39min\u001b[39;00m docs_and_scores\u001b[39m.\u001b[39mvalues()\n\u001b[0;32m    107\u001b[0m ]\n\u001b[0;32m    108\u001b[0m rescored_docs\u001b[39m.\u001b[39msort(key\u001b[39m=\u001b[39m\u001b[39mlambda\u001b[39;00m x: x[\u001b[39m1\u001b[39m], reverse\u001b[39m=\u001b[39m\u001b[39mTrue\u001b[39;00m)\n",
      "File \u001b[1;32md:\\anaconda3\\envs\\langchain\\lib\\site-packages\\langchain\\retrievers\\time_weighted_retriever.py:82\u001b[0m, in \u001b[0;36mTimeWeightedVectorStoreRetriever.get_salient_docs\u001b[1;34m(self, query)\u001b[0m\n\u001b[0;32m     80\u001b[0m \u001b[39m\u001b[39m\u001b[39m\"\"\"Return documents that are salient to the query.\"\"\"\u001b[39;00m\n\u001b[0;32m     81\u001b[0m docs_and_scores: List[Tuple[Document, \u001b[39mfloat\u001b[39m]]\n\u001b[1;32m---> 82\u001b[0m docs_and_scores \u001b[39m=\u001b[39m \u001b[39mself\u001b[39m\u001b[39m.\u001b[39mvectorstore\u001b[39m.\u001b[39msimilarity_search_with_relevance_scores(\n\u001b[0;32m     83\u001b[0m     query, \u001b[39m*\u001b[39m\u001b[39m*\u001b[39m\u001b[39mself\u001b[39m\u001b[39m.\u001b[39msearch_kwargs\n\u001b[0;32m     84\u001b[0m )\n\u001b[0;32m     85\u001b[0m results \u001b[39m=\u001b[39m {}\n\u001b[0;32m     86\u001b[0m \u001b[39mfor\u001b[39;00m fetched_doc, relevance \u001b[39min\u001b[39;00m docs_and_scores:\n",
      "File \u001b[1;32md:\\anaconda3\\envs\\langchain\\lib\\site-packages\\langchain_core\\vectorstores.py:306\u001b[0m, in \u001b[0;36mVectorStore.similarity_search_with_relevance_scores\u001b[1;34m(self, query, k, **kwargs)\u001b[0m\n\u001b[0;32m    290\u001b[0m \u001b[39m\u001b[39m\u001b[39m\"\"\"Return docs and relevance scores in the range [0, 1].\u001b[39;00m\n\u001b[0;32m    291\u001b[0m \n\u001b[0;32m    292\u001b[0m \u001b[39m0 is dissimilar, 1 is most similar.\u001b[39;00m\n\u001b[1;32m   (...)\u001b[0m\n\u001b[0;32m    302\u001b[0m \u001b[39m    List of Tuples of (doc, similarity_score)\u001b[39;00m\n\u001b[0;32m    303\u001b[0m \u001b[39m\"\"\"\u001b[39;00m\n\u001b[0;32m    304\u001b[0m score_threshold \u001b[39m=\u001b[39m kwargs\u001b[39m.\u001b[39mpop(\u001b[39m\"\u001b[39m\u001b[39mscore_threshold\u001b[39m\u001b[39m\"\u001b[39m, \u001b[39mNone\u001b[39;00m)\n\u001b[1;32m--> 306\u001b[0m docs_and_similarities \u001b[39m=\u001b[39m \u001b[39mself\u001b[39m\u001b[39m.\u001b[39m_similarity_search_with_relevance_scores(\n\u001b[0;32m    307\u001b[0m     query, k\u001b[39m=\u001b[39mk, \u001b[39m*\u001b[39m\u001b[39m*\u001b[39mkwargs\n\u001b[0;32m    308\u001b[0m )\n\u001b[0;32m    309\u001b[0m \u001b[39mif\u001b[39;00m \u001b[39many\u001b[39m(\n\u001b[0;32m    310\u001b[0m     similarity \u001b[39m<\u001b[39m \u001b[39m0.0\u001b[39m \u001b[39mor\u001b[39;00m similarity \u001b[39m>\u001b[39m \u001b[39m1.0\u001b[39m\n\u001b[0;32m    311\u001b[0m     \u001b[39mfor\u001b[39;00m _, similarity \u001b[39min\u001b[39;00m docs_and_similarities\n\u001b[0;32m    312\u001b[0m ):\n\u001b[0;32m    313\u001b[0m     warnings\u001b[39m.\u001b[39mwarn(\n\u001b[0;32m    314\u001b[0m         \u001b[39m\"\u001b[39m\u001b[39mRelevance scores must be between\u001b[39m\u001b[39m\"\u001b[39m\n\u001b[0;32m    315\u001b[0m         \u001b[39mf\u001b[39m\u001b[39m\"\u001b[39m\u001b[39m 0 and 1, got \u001b[39m\u001b[39m{\u001b[39;00mdocs_and_similarities\u001b[39m}\u001b[39;00m\u001b[39m\"\u001b[39m\n\u001b[0;32m    316\u001b[0m     )\n",
      "File \u001b[1;32md:\\anaconda3\\envs\\langchain\\lib\\site-packages\\langchain\\vectorstores\\faiss.py:1125\u001b[0m, in \u001b[0;36mFAISS._similarity_search_with_relevance_scores\u001b[1;34m(self, query, k, filter, fetch_k, **kwargs)\u001b[0m\n\u001b[0;32m   1120\u001b[0m \u001b[39mif\u001b[39;00m relevance_score_fn \u001b[39mis\u001b[39;00m \u001b[39mNone\u001b[39;00m:\n\u001b[0;32m   1121\u001b[0m     \u001b[39mraise\u001b[39;00m \u001b[39mValueError\u001b[39;00m(\n\u001b[0;32m   1122\u001b[0m         \u001b[39m\"\u001b[39m\u001b[39mnormalize_score_fn must be provided to\u001b[39m\u001b[39m\"\u001b[39m\n\u001b[0;32m   1123\u001b[0m         \u001b[39m\"\u001b[39m\u001b[39m FAISS constructor to normalize scores\u001b[39m\u001b[39m\"\u001b[39m\n\u001b[0;32m   1124\u001b[0m     )\n\u001b[1;32m-> 1125\u001b[0m docs_and_scores \u001b[39m=\u001b[39m \u001b[39mself\u001b[39m\u001b[39m.\u001b[39msimilarity_search_with_score(\n\u001b[0;32m   1126\u001b[0m     query,\n\u001b[0;32m   1127\u001b[0m     k\u001b[39m=\u001b[39mk,\n\u001b[0;32m   1128\u001b[0m     \u001b[39mfilter\u001b[39m\u001b[39m=\u001b[39m\u001b[39mfilter\u001b[39m,\n\u001b[0;32m   1129\u001b[0m     fetch_k\u001b[39m=\u001b[39mfetch_k,\n\u001b[0;32m   1130\u001b[0m     \u001b[39m*\u001b[39m\u001b[39m*\u001b[39mkwargs,\n\u001b[0;32m   1131\u001b[0m )\n\u001b[0;32m   1132\u001b[0m docs_and_rel_scores \u001b[39m=\u001b[39m [\n\u001b[0;32m   1133\u001b[0m     (doc, relevance_score_fn(score)) \u001b[39mfor\u001b[39;00m doc, score \u001b[39min\u001b[39;00m docs_and_scores\n\u001b[0;32m   1134\u001b[0m ]\n\u001b[0;32m   1135\u001b[0m \u001b[39mreturn\u001b[39;00m docs_and_rel_scores\n",
      "File \u001b[1;32md:\\anaconda3\\envs\\langchain\\lib\\site-packages\\langchain\\vectorstores\\faiss.py:391\u001b[0m, in \u001b[0;36mFAISS.similarity_search_with_score\u001b[1;34m(self, query, k, filter, fetch_k, **kwargs)\u001b[0m\n\u001b[0;32m    377\u001b[0m \u001b[39m\u001b[39m\u001b[39m\"\"\"Return docs most similar to query.\u001b[39;00m\n\u001b[0;32m    378\u001b[0m \n\u001b[0;32m    379\u001b[0m \u001b[39mArgs:\u001b[39;00m\n\u001b[1;32m   (...)\u001b[0m\n\u001b[0;32m    388\u001b[0m \u001b[39m    L2 distance in float. Lower score represents more similarity.\u001b[39;00m\n\u001b[0;32m    389\u001b[0m \u001b[39m\"\"\"\u001b[39;00m\n\u001b[0;32m    390\u001b[0m embedding \u001b[39m=\u001b[39m \u001b[39mself\u001b[39m\u001b[39m.\u001b[39m_embed_query(query)\n\u001b[1;32m--> 391\u001b[0m docs \u001b[39m=\u001b[39m \u001b[39mself\u001b[39m\u001b[39m.\u001b[39msimilarity_search_with_score_by_vector(\n\u001b[0;32m    392\u001b[0m     embedding,\n\u001b[0;32m    393\u001b[0m     k,\n\u001b[0;32m    394\u001b[0m     \u001b[39mfilter\u001b[39m\u001b[39m=\u001b[39m\u001b[39mfilter\u001b[39m,\n\u001b[0;32m    395\u001b[0m     fetch_k\u001b[39m=\u001b[39mfetch_k,\n\u001b[0;32m    396\u001b[0m     \u001b[39m*\u001b[39m\u001b[39m*\u001b[39mkwargs,\n\u001b[0;32m    397\u001b[0m )\n\u001b[0;32m    398\u001b[0m \u001b[39mreturn\u001b[39;00m docs\n",
      "File \u001b[1;32md:\\anaconda3\\envs\\langchain\\lib\\site-packages\\langchain\\vectorstores\\faiss.py:298\u001b[0m, in \u001b[0;36mFAISS.similarity_search_with_score_by_vector\u001b[1;34m(self, embedding, k, filter, fetch_k, **kwargs)\u001b[0m\n\u001b[0;32m    296\u001b[0m \u001b[39mif\u001b[39;00m \u001b[39mself\u001b[39m\u001b[39m.\u001b[39m_normalize_L2:\n\u001b[0;32m    297\u001b[0m     faiss\u001b[39m.\u001b[39mnormalize_L2(vector)\n\u001b[1;32m--> 298\u001b[0m scores, indices \u001b[39m=\u001b[39m \u001b[39mself\u001b[39;49m\u001b[39m.\u001b[39;49mindex\u001b[39m.\u001b[39;49msearch(vector, k \u001b[39mif\u001b[39;49;00m \u001b[39mfilter\u001b[39;49m \u001b[39mis\u001b[39;49;00m \u001b[39mNone\u001b[39;49;00m \u001b[39melse\u001b[39;49;00m fetch_k)\n\u001b[0;32m    299\u001b[0m docs \u001b[39m=\u001b[39m []\n\u001b[0;32m    300\u001b[0m \u001b[39mfor\u001b[39;00m j, i \u001b[39min\u001b[39;00m \u001b[39menumerate\u001b[39m(indices[\u001b[39m0\u001b[39m]):\n",
      "File \u001b[1;32md:\\anaconda3\\envs\\langchain\\lib\\site-packages\\faiss\\class_wrappers.py:329\u001b[0m, in \u001b[0;36mhandle_Index.<locals>.replacement_search\u001b[1;34m(self, x, k, params, D, I)\u001b[0m\n\u001b[0;32m    327\u001b[0m n, d \u001b[39m=\u001b[39m x\u001b[39m.\u001b[39mshape\n\u001b[0;32m    328\u001b[0m x \u001b[39m=\u001b[39m np\u001b[39m.\u001b[39mascontiguousarray(x, dtype\u001b[39m=\u001b[39m\u001b[39m'\u001b[39m\u001b[39mfloat32\u001b[39m\u001b[39m'\u001b[39m)\n\u001b[1;32m--> 329\u001b[0m \u001b[39massert\u001b[39;00m d \u001b[39m==\u001b[39m \u001b[39mself\u001b[39m\u001b[39m.\u001b[39md\n\u001b[0;32m    331\u001b[0m \u001b[39massert\u001b[39;00m k \u001b[39m>\u001b[39m \u001b[39m0\u001b[39m\n\u001b[0;32m    333\u001b[0m \u001b[39mif\u001b[39;00m D \u001b[39mis\u001b[39;00m \u001b[39mNone\u001b[39;00m:\n",
      "\u001b[1;31mAssertionError\u001b[0m: "
     ]
    }
   ],
   "source": [
    "# \"Hello World\" is returned first because it is most salient, and the decay rate is close to 0., meaning it's still recent enough\n",
    "retriever.get_relevant_documents(\"hello world\")"
   ]
  },
  {
   "cell_type": "markdown",
   "metadata": {},
   "source": [
    "## High decay rate\n",
    "With a high decay rate (e.g., several 9's), the recency score quickly goes to 0! If you set this all the way to 1, recency is 0 for all objects, once again making this equivalent to a vector lookup."
   ]
  },
  {
   "cell_type": "code",
   "execution_count": 12,
   "metadata": {},
   "outputs": [],
   "source": [
    "# Define your embedding model\n",
    "# embeddings_model = OpenAIEmbeddings()\n",
    "# Initialize the vectorstore as empty\n",
    "embedding_size = 1536\n",
    "index = faiss.IndexFlatL2(embedding_size)\n",
    "vectorstore = FAISS(embedding_model, index, InMemoryDocstore({}), {})\n",
    "retriever = TimeWeightedVectorStoreRetriever(vectorstore=vectorstore, decay_rate=.999, k=1)"
   ]
  },
  {
   "cell_type": "code",
   "execution_count": 13,
   "metadata": {},
   "outputs": [
    {
     "ename": "AssertionError",
     "evalue": "",
     "output_type": "error",
     "traceback": [
      "\u001b[1;31m---------------------------------------------------------------------------\u001b[0m",
      "\u001b[1;31mAssertionError\u001b[0m                            Traceback (most recent call last)",
      "\u001b[1;32md:\\Gitroot\\modeltrial\\LangChainStudy\\retriever\\time_weighted_vector_store_retriever.ipynb Cell 9\u001b[0m line \u001b[0;36m2\n\u001b[0;32m      <a href='vscode-notebook-cell:/d%3A/Gitroot/modeltrial/LangChainStudy/retriever/time_weighted_vector_store_retriever.ipynb#X11sZmlsZQ%3D%3D?line=0'>1</a>\u001b[0m yesterday \u001b[39m=\u001b[39m datetime\u001b[39m.\u001b[39mnow() \u001b[39m-\u001b[39m timedelta(days\u001b[39m=\u001b[39m\u001b[39m1\u001b[39m)\n\u001b[1;32m----> <a href='vscode-notebook-cell:/d%3A/Gitroot/modeltrial/LangChainStudy/retriever/time_weighted_vector_store_retriever.ipynb#X11sZmlsZQ%3D%3D?line=1'>2</a>\u001b[0m retriever\u001b[39m.\u001b[39;49madd_documents([Document(page_content\u001b[39m=\u001b[39;49m\u001b[39m\"\u001b[39;49m\u001b[39mhello world\u001b[39;49m\u001b[39m\"\u001b[39;49m, metadata\u001b[39m=\u001b[39;49m{\u001b[39m\"\u001b[39;49m\u001b[39mlast_accessed_at\u001b[39;49m\u001b[39m\"\u001b[39;49m: yesterday})])\n\u001b[0;32m      <a href='vscode-notebook-cell:/d%3A/Gitroot/modeltrial/LangChainStudy/retriever/time_weighted_vector_store_retriever.ipynb#X11sZmlsZQ%3D%3D?line=2'>3</a>\u001b[0m retriever\u001b[39m.\u001b[39madd_documents([Document(page_content\u001b[39m=\u001b[39m\u001b[39m\"\u001b[39m\u001b[39mhello foo\u001b[39m\u001b[39m\"\u001b[39m)])\n",
      "File \u001b[1;32md:\\anaconda3\\envs\\langchain\\lib\\site-packages\\langchain\\retrievers\\time_weighted_retriever.py:132\u001b[0m, in \u001b[0;36mTimeWeightedVectorStoreRetriever.add_documents\u001b[1;34m(self, documents, **kwargs)\u001b[0m\n\u001b[0;32m    130\u001b[0m     doc\u001b[39m.\u001b[39mmetadata[\u001b[39m\"\u001b[39m\u001b[39mbuffer_idx\u001b[39m\u001b[39m\"\u001b[39m] \u001b[39m=\u001b[39m \u001b[39mlen\u001b[39m(\u001b[39mself\u001b[39m\u001b[39m.\u001b[39mmemory_stream) \u001b[39m+\u001b[39m i\n\u001b[0;32m    131\u001b[0m \u001b[39mself\u001b[39m\u001b[39m.\u001b[39mmemory_stream\u001b[39m.\u001b[39mextend(dup_docs)\n\u001b[1;32m--> 132\u001b[0m \u001b[39mreturn\u001b[39;00m \u001b[39mself\u001b[39m\u001b[39m.\u001b[39mvectorstore\u001b[39m.\u001b[39madd_documents(dup_docs, \u001b[39m*\u001b[39m\u001b[39m*\u001b[39mkwargs)\n",
      "File \u001b[1;32md:\\anaconda3\\envs\\langchain\\lib\\site-packages\\langchain_core\\vectorstores.py:122\u001b[0m, in \u001b[0;36mVectorStore.add_documents\u001b[1;34m(self, documents, **kwargs)\u001b[0m\n\u001b[0;32m    120\u001b[0m texts \u001b[39m=\u001b[39m [doc\u001b[39m.\u001b[39mpage_content \u001b[39mfor\u001b[39;00m doc \u001b[39min\u001b[39;00m documents]\n\u001b[0;32m    121\u001b[0m metadatas \u001b[39m=\u001b[39m [doc\u001b[39m.\u001b[39mmetadata \u001b[39mfor\u001b[39;00m doc \u001b[39min\u001b[39;00m documents]\n\u001b[1;32m--> 122\u001b[0m \u001b[39mreturn\u001b[39;00m \u001b[39mself\u001b[39m\u001b[39m.\u001b[39madd_texts(texts, metadatas, \u001b[39m*\u001b[39m\u001b[39m*\u001b[39mkwargs)\n",
      "File \u001b[1;32md:\\anaconda3\\envs\\langchain\\lib\\site-packages\\langchain\\vectorstores\\faiss.py:224\u001b[0m, in \u001b[0;36mFAISS.add_texts\u001b[1;34m(self, texts, metadatas, ids, **kwargs)\u001b[0m\n\u001b[0;32m    222\u001b[0m texts \u001b[39m=\u001b[39m \u001b[39mlist\u001b[39m(texts)\n\u001b[0;32m    223\u001b[0m embeddings \u001b[39m=\u001b[39m \u001b[39mself\u001b[39m\u001b[39m.\u001b[39m_embed_documents(texts)\n\u001b[1;32m--> 224\u001b[0m \u001b[39mreturn\u001b[39;00m \u001b[39mself\u001b[39;49m\u001b[39m.\u001b[39;49m__add(texts, embeddings, metadatas\u001b[39m=\u001b[39;49mmetadatas, ids\u001b[39m=\u001b[39;49mids)\n",
      "File \u001b[1;32md:\\anaconda3\\envs\\langchain\\lib\\site-packages\\langchain\\vectorstores\\faiss.py:195\u001b[0m, in \u001b[0;36mFAISS.__add\u001b[1;34m(self, texts, embeddings, metadatas, ids)\u001b[0m\n\u001b[0;32m    193\u001b[0m \u001b[39mif\u001b[39;00m \u001b[39mself\u001b[39m\u001b[39m.\u001b[39m_normalize_L2:\n\u001b[0;32m    194\u001b[0m     faiss\u001b[39m.\u001b[39mnormalize_L2(vector)\n\u001b[1;32m--> 195\u001b[0m \u001b[39mself\u001b[39;49m\u001b[39m.\u001b[39;49mindex\u001b[39m.\u001b[39;49madd(vector)\n\u001b[0;32m    197\u001b[0m \u001b[39m# Add information to docstore and index.\u001b[39;00m\n\u001b[0;32m    198\u001b[0m ids \u001b[39m=\u001b[39m ids \u001b[39mor\u001b[39;00m [\u001b[39mstr\u001b[39m(uuid\u001b[39m.\u001b[39muuid4()) \u001b[39mfor\u001b[39;00m _ \u001b[39min\u001b[39;00m texts]\n",
      "File \u001b[1;32md:\\anaconda3\\envs\\langchain\\lib\\site-packages\\faiss\\class_wrappers.py:228\u001b[0m, in \u001b[0;36mhandle_Index.<locals>.replacement_add\u001b[1;34m(self, x)\u001b[0m\n\u001b[0;32m    215\u001b[0m \u001b[39m\u001b[39m\u001b[39m\"\"\"Adds vectors to the index.\u001b[39;00m\n\u001b[0;32m    216\u001b[0m \u001b[39mThe index must be trained before vectors can be added to it.\u001b[39;00m\n\u001b[0;32m    217\u001b[0m \u001b[39mThe vectors are implicitly numbered in sequence. When `n` vectors are\u001b[39;00m\n\u001b[1;32m   (...)\u001b[0m\n\u001b[0;32m    224\u001b[0m \u001b[39m    `dtype` must be float32.\u001b[39;00m\n\u001b[0;32m    225\u001b[0m \u001b[39m\"\"\"\u001b[39;00m\n\u001b[0;32m    227\u001b[0m n, d \u001b[39m=\u001b[39m x\u001b[39m.\u001b[39mshape\n\u001b[1;32m--> 228\u001b[0m \u001b[39massert\u001b[39;00m d \u001b[39m==\u001b[39m \u001b[39mself\u001b[39m\u001b[39m.\u001b[39md\n\u001b[0;32m    229\u001b[0m x \u001b[39m=\u001b[39m np\u001b[39m.\u001b[39mascontiguousarray(x, dtype\u001b[39m=\u001b[39m\u001b[39m'\u001b[39m\u001b[39mfloat32\u001b[39m\u001b[39m'\u001b[39m)\n\u001b[0;32m    230\u001b[0m \u001b[39mself\u001b[39m\u001b[39m.\u001b[39madd_c(n, swig_ptr(x))\n",
      "\u001b[1;31mAssertionError\u001b[0m: "
     ]
    }
   ],
   "source": [
    "yesterday = datetime.now() - timedelta(days=1)\n",
    "retriever.add_documents([Document(page_content=\"hello world\", metadata={\"last_accessed_at\": yesterday})])\n",
    "retriever.add_documents([Document(page_content=\"hello foo\")])"
   ]
  },
  {
   "cell_type": "code",
   "execution_count": 14,
   "metadata": {},
   "outputs": [
    {
     "ename": "AssertionError",
     "evalue": "",
     "output_type": "error",
     "traceback": [
      "\u001b[1;31m---------------------------------------------------------------------------\u001b[0m",
      "\u001b[1;31mAssertionError\u001b[0m                            Traceback (most recent call last)",
      "\u001b[1;32md:\\Gitroot\\modeltrial\\LangChainStudy\\retriever\\time_weighted_vector_store_retriever.ipynb Cell 10\u001b[0m line \u001b[0;36m2\n\u001b[0;32m      <a href='vscode-notebook-cell:/d%3A/Gitroot/modeltrial/LangChainStudy/retriever/time_weighted_vector_store_retriever.ipynb#X12sZmlsZQ%3D%3D?line=0'>1</a>\u001b[0m \u001b[39m# \"Hello Foo\" is returned first because \"hello world\" is mostly forgotten\u001b[39;00m\n\u001b[1;32m----> <a href='vscode-notebook-cell:/d%3A/Gitroot/modeltrial/LangChainStudy/retriever/time_weighted_vector_store_retriever.ipynb#X12sZmlsZQ%3D%3D?line=1'>2</a>\u001b[0m retriever\u001b[39m.\u001b[39;49mget_relevant_documents(\u001b[39m\"\u001b[39;49m\u001b[39mhello world\u001b[39;49m\u001b[39m\"\u001b[39;49m)\n",
      "File \u001b[1;32md:\\anaconda3\\envs\\langchain\\lib\\site-packages\\langchain_core\\retrievers.py:211\u001b[0m, in \u001b[0;36mBaseRetriever.get_relevant_documents\u001b[1;34m(self, query, callbacks, tags, metadata, run_name, **kwargs)\u001b[0m\n\u001b[0;32m    209\u001b[0m \u001b[39mexcept\u001b[39;00m \u001b[39mException\u001b[39;00m \u001b[39mas\u001b[39;00m e:\n\u001b[0;32m    210\u001b[0m     run_manager\u001b[39m.\u001b[39mon_retriever_error(e)\n\u001b[1;32m--> 211\u001b[0m     \u001b[39mraise\u001b[39;00m e\n\u001b[0;32m    212\u001b[0m \u001b[39melse\u001b[39;00m:\n\u001b[0;32m    213\u001b[0m     run_manager\u001b[39m.\u001b[39mon_retriever_end(\n\u001b[0;32m    214\u001b[0m         result,\n\u001b[0;32m    215\u001b[0m         \u001b[39m*\u001b[39m\u001b[39m*\u001b[39mkwargs,\n\u001b[0;32m    216\u001b[0m     )\n",
      "File \u001b[1;32md:\\anaconda3\\envs\\langchain\\lib\\site-packages\\langchain_core\\retrievers.py:204\u001b[0m, in \u001b[0;36mBaseRetriever.get_relevant_documents\u001b[1;34m(self, query, callbacks, tags, metadata, run_name, **kwargs)\u001b[0m\n\u001b[0;32m    202\u001b[0m _kwargs \u001b[39m=\u001b[39m kwargs \u001b[39mif\u001b[39;00m \u001b[39mself\u001b[39m\u001b[39m.\u001b[39m_expects_other_args \u001b[39melse\u001b[39;00m {}\n\u001b[0;32m    203\u001b[0m \u001b[39mif\u001b[39;00m \u001b[39mself\u001b[39m\u001b[39m.\u001b[39m_new_arg_supported:\n\u001b[1;32m--> 204\u001b[0m     result \u001b[39m=\u001b[39m \u001b[39mself\u001b[39m\u001b[39m.\u001b[39m_get_relevant_documents(\n\u001b[0;32m    205\u001b[0m         query, run_manager\u001b[39m=\u001b[39mrun_manager, \u001b[39m*\u001b[39m\u001b[39m*\u001b[39m_kwargs\n\u001b[0;32m    206\u001b[0m     )\n\u001b[0;32m    207\u001b[0m \u001b[39melse\u001b[39;00m:\n\u001b[0;32m    208\u001b[0m     result \u001b[39m=\u001b[39m \u001b[39mself\u001b[39m\u001b[39m.\u001b[39m_get_relevant_documents(query, \u001b[39m*\u001b[39m\u001b[39m*\u001b[39m_kwargs)\n",
      "File \u001b[1;32md:\\anaconda3\\envs\\langchain\\lib\\site-packages\\langchain\\retrievers\\time_weighted_retriever.py:103\u001b[0m, in \u001b[0;36mTimeWeightedVectorStoreRetriever._get_relevant_documents\u001b[1;34m(self, query, run_manager)\u001b[0m\n\u001b[0;32m     98\u001b[0m docs_and_scores \u001b[39m=\u001b[39m {\n\u001b[0;32m     99\u001b[0m     doc\u001b[39m.\u001b[39mmetadata[\u001b[39m\"\u001b[39m\u001b[39mbuffer_idx\u001b[39m\u001b[39m\"\u001b[39m]: (doc, \u001b[39mself\u001b[39m\u001b[39m.\u001b[39mdefault_salience)\n\u001b[0;32m    100\u001b[0m     \u001b[39mfor\u001b[39;00m doc \u001b[39min\u001b[39;00m \u001b[39mself\u001b[39m\u001b[39m.\u001b[39mmemory_stream[\u001b[39m-\u001b[39m\u001b[39mself\u001b[39m\u001b[39m.\u001b[39mk :]\n\u001b[0;32m    101\u001b[0m }\n\u001b[0;32m    102\u001b[0m \u001b[39m# If a doc is considered salient, update the salience score\u001b[39;00m\n\u001b[1;32m--> 103\u001b[0m docs_and_scores\u001b[39m.\u001b[39mupdate(\u001b[39mself\u001b[39;49m\u001b[39m.\u001b[39;49mget_salient_docs(query))\n\u001b[0;32m    104\u001b[0m rescored_docs \u001b[39m=\u001b[39m [\n\u001b[0;32m    105\u001b[0m     (doc, \u001b[39mself\u001b[39m\u001b[39m.\u001b[39m_get_combined_score(doc, relevance, current_time))\n\u001b[0;32m    106\u001b[0m     \u001b[39mfor\u001b[39;00m doc, relevance \u001b[39min\u001b[39;00m docs_and_scores\u001b[39m.\u001b[39mvalues()\n\u001b[0;32m    107\u001b[0m ]\n\u001b[0;32m    108\u001b[0m rescored_docs\u001b[39m.\u001b[39msort(key\u001b[39m=\u001b[39m\u001b[39mlambda\u001b[39;00m x: x[\u001b[39m1\u001b[39m], reverse\u001b[39m=\u001b[39m\u001b[39mTrue\u001b[39;00m)\n",
      "File \u001b[1;32md:\\anaconda3\\envs\\langchain\\lib\\site-packages\\langchain\\retrievers\\time_weighted_retriever.py:82\u001b[0m, in \u001b[0;36mTimeWeightedVectorStoreRetriever.get_salient_docs\u001b[1;34m(self, query)\u001b[0m\n\u001b[0;32m     80\u001b[0m \u001b[39m\u001b[39m\u001b[39m\"\"\"Return documents that are salient to the query.\"\"\"\u001b[39;00m\n\u001b[0;32m     81\u001b[0m docs_and_scores: List[Tuple[Document, \u001b[39mfloat\u001b[39m]]\n\u001b[1;32m---> 82\u001b[0m docs_and_scores \u001b[39m=\u001b[39m \u001b[39mself\u001b[39m\u001b[39m.\u001b[39mvectorstore\u001b[39m.\u001b[39msimilarity_search_with_relevance_scores(\n\u001b[0;32m     83\u001b[0m     query, \u001b[39m*\u001b[39m\u001b[39m*\u001b[39m\u001b[39mself\u001b[39m\u001b[39m.\u001b[39msearch_kwargs\n\u001b[0;32m     84\u001b[0m )\n\u001b[0;32m     85\u001b[0m results \u001b[39m=\u001b[39m {}\n\u001b[0;32m     86\u001b[0m \u001b[39mfor\u001b[39;00m fetched_doc, relevance \u001b[39min\u001b[39;00m docs_and_scores:\n",
      "File \u001b[1;32md:\\anaconda3\\envs\\langchain\\lib\\site-packages\\langchain_core\\vectorstores.py:306\u001b[0m, in \u001b[0;36mVectorStore.similarity_search_with_relevance_scores\u001b[1;34m(self, query, k, **kwargs)\u001b[0m\n\u001b[0;32m    290\u001b[0m \u001b[39m\u001b[39m\u001b[39m\"\"\"Return docs and relevance scores in the range [0, 1].\u001b[39;00m\n\u001b[0;32m    291\u001b[0m \n\u001b[0;32m    292\u001b[0m \u001b[39m0 is dissimilar, 1 is most similar.\u001b[39;00m\n\u001b[1;32m   (...)\u001b[0m\n\u001b[0;32m    302\u001b[0m \u001b[39m    List of Tuples of (doc, similarity_score)\u001b[39;00m\n\u001b[0;32m    303\u001b[0m \u001b[39m\"\"\"\u001b[39;00m\n\u001b[0;32m    304\u001b[0m score_threshold \u001b[39m=\u001b[39m kwargs\u001b[39m.\u001b[39mpop(\u001b[39m\"\u001b[39m\u001b[39mscore_threshold\u001b[39m\u001b[39m\"\u001b[39m, \u001b[39mNone\u001b[39;00m)\n\u001b[1;32m--> 306\u001b[0m docs_and_similarities \u001b[39m=\u001b[39m \u001b[39mself\u001b[39m\u001b[39m.\u001b[39m_similarity_search_with_relevance_scores(\n\u001b[0;32m    307\u001b[0m     query, k\u001b[39m=\u001b[39mk, \u001b[39m*\u001b[39m\u001b[39m*\u001b[39mkwargs\n\u001b[0;32m    308\u001b[0m )\n\u001b[0;32m    309\u001b[0m \u001b[39mif\u001b[39;00m \u001b[39many\u001b[39m(\n\u001b[0;32m    310\u001b[0m     similarity \u001b[39m<\u001b[39m \u001b[39m0.0\u001b[39m \u001b[39mor\u001b[39;00m similarity \u001b[39m>\u001b[39m \u001b[39m1.0\u001b[39m\n\u001b[0;32m    311\u001b[0m     \u001b[39mfor\u001b[39;00m _, similarity \u001b[39min\u001b[39;00m docs_and_similarities\n\u001b[0;32m    312\u001b[0m ):\n\u001b[0;32m    313\u001b[0m     warnings\u001b[39m.\u001b[39mwarn(\n\u001b[0;32m    314\u001b[0m         \u001b[39m\"\u001b[39m\u001b[39mRelevance scores must be between\u001b[39m\u001b[39m\"\u001b[39m\n\u001b[0;32m    315\u001b[0m         \u001b[39mf\u001b[39m\u001b[39m\"\u001b[39m\u001b[39m 0 and 1, got \u001b[39m\u001b[39m{\u001b[39;00mdocs_and_similarities\u001b[39m}\u001b[39;00m\u001b[39m\"\u001b[39m\n\u001b[0;32m    316\u001b[0m     )\n",
      "File \u001b[1;32md:\\anaconda3\\envs\\langchain\\lib\\site-packages\\langchain\\vectorstores\\faiss.py:1125\u001b[0m, in \u001b[0;36mFAISS._similarity_search_with_relevance_scores\u001b[1;34m(self, query, k, filter, fetch_k, **kwargs)\u001b[0m\n\u001b[0;32m   1120\u001b[0m \u001b[39mif\u001b[39;00m relevance_score_fn \u001b[39mis\u001b[39;00m \u001b[39mNone\u001b[39;00m:\n\u001b[0;32m   1121\u001b[0m     \u001b[39mraise\u001b[39;00m \u001b[39mValueError\u001b[39;00m(\n\u001b[0;32m   1122\u001b[0m         \u001b[39m\"\u001b[39m\u001b[39mnormalize_score_fn must be provided to\u001b[39m\u001b[39m\"\u001b[39m\n\u001b[0;32m   1123\u001b[0m         \u001b[39m\"\u001b[39m\u001b[39m FAISS constructor to normalize scores\u001b[39m\u001b[39m\"\u001b[39m\n\u001b[0;32m   1124\u001b[0m     )\n\u001b[1;32m-> 1125\u001b[0m docs_and_scores \u001b[39m=\u001b[39m \u001b[39mself\u001b[39m\u001b[39m.\u001b[39msimilarity_search_with_score(\n\u001b[0;32m   1126\u001b[0m     query,\n\u001b[0;32m   1127\u001b[0m     k\u001b[39m=\u001b[39mk,\n\u001b[0;32m   1128\u001b[0m     \u001b[39mfilter\u001b[39m\u001b[39m=\u001b[39m\u001b[39mfilter\u001b[39m,\n\u001b[0;32m   1129\u001b[0m     fetch_k\u001b[39m=\u001b[39mfetch_k,\n\u001b[0;32m   1130\u001b[0m     \u001b[39m*\u001b[39m\u001b[39m*\u001b[39mkwargs,\n\u001b[0;32m   1131\u001b[0m )\n\u001b[0;32m   1132\u001b[0m docs_and_rel_scores \u001b[39m=\u001b[39m [\n\u001b[0;32m   1133\u001b[0m     (doc, relevance_score_fn(score)) \u001b[39mfor\u001b[39;00m doc, score \u001b[39min\u001b[39;00m docs_and_scores\n\u001b[0;32m   1134\u001b[0m ]\n\u001b[0;32m   1135\u001b[0m \u001b[39mreturn\u001b[39;00m docs_and_rel_scores\n",
      "File \u001b[1;32md:\\anaconda3\\envs\\langchain\\lib\\site-packages\\langchain\\vectorstores\\faiss.py:391\u001b[0m, in \u001b[0;36mFAISS.similarity_search_with_score\u001b[1;34m(self, query, k, filter, fetch_k, **kwargs)\u001b[0m\n\u001b[0;32m    377\u001b[0m \u001b[39m\u001b[39m\u001b[39m\"\"\"Return docs most similar to query.\u001b[39;00m\n\u001b[0;32m    378\u001b[0m \n\u001b[0;32m    379\u001b[0m \u001b[39mArgs:\u001b[39;00m\n\u001b[1;32m   (...)\u001b[0m\n\u001b[0;32m    388\u001b[0m \u001b[39m    L2 distance in float. Lower score represents more similarity.\u001b[39;00m\n\u001b[0;32m    389\u001b[0m \u001b[39m\"\"\"\u001b[39;00m\n\u001b[0;32m    390\u001b[0m embedding \u001b[39m=\u001b[39m \u001b[39mself\u001b[39m\u001b[39m.\u001b[39m_embed_query(query)\n\u001b[1;32m--> 391\u001b[0m docs \u001b[39m=\u001b[39m \u001b[39mself\u001b[39m\u001b[39m.\u001b[39msimilarity_search_with_score_by_vector(\n\u001b[0;32m    392\u001b[0m     embedding,\n\u001b[0;32m    393\u001b[0m     k,\n\u001b[0;32m    394\u001b[0m     \u001b[39mfilter\u001b[39m\u001b[39m=\u001b[39m\u001b[39mfilter\u001b[39m,\n\u001b[0;32m    395\u001b[0m     fetch_k\u001b[39m=\u001b[39mfetch_k,\n\u001b[0;32m    396\u001b[0m     \u001b[39m*\u001b[39m\u001b[39m*\u001b[39mkwargs,\n\u001b[0;32m    397\u001b[0m )\n\u001b[0;32m    398\u001b[0m \u001b[39mreturn\u001b[39;00m docs\n",
      "File \u001b[1;32md:\\anaconda3\\envs\\langchain\\lib\\site-packages\\langchain\\vectorstores\\faiss.py:298\u001b[0m, in \u001b[0;36mFAISS.similarity_search_with_score_by_vector\u001b[1;34m(self, embedding, k, filter, fetch_k, **kwargs)\u001b[0m\n\u001b[0;32m    296\u001b[0m \u001b[39mif\u001b[39;00m \u001b[39mself\u001b[39m\u001b[39m.\u001b[39m_normalize_L2:\n\u001b[0;32m    297\u001b[0m     faiss\u001b[39m.\u001b[39mnormalize_L2(vector)\n\u001b[1;32m--> 298\u001b[0m scores, indices \u001b[39m=\u001b[39m \u001b[39mself\u001b[39;49m\u001b[39m.\u001b[39;49mindex\u001b[39m.\u001b[39;49msearch(vector, k \u001b[39mif\u001b[39;49;00m \u001b[39mfilter\u001b[39;49m \u001b[39mis\u001b[39;49;00m \u001b[39mNone\u001b[39;49;00m \u001b[39melse\u001b[39;49;00m fetch_k)\n\u001b[0;32m    299\u001b[0m docs \u001b[39m=\u001b[39m []\n\u001b[0;32m    300\u001b[0m \u001b[39mfor\u001b[39;00m j, i \u001b[39min\u001b[39;00m \u001b[39menumerate\u001b[39m(indices[\u001b[39m0\u001b[39m]):\n",
      "File \u001b[1;32md:\\anaconda3\\envs\\langchain\\lib\\site-packages\\faiss\\class_wrappers.py:329\u001b[0m, in \u001b[0;36mhandle_Index.<locals>.replacement_search\u001b[1;34m(self, x, k, params, D, I)\u001b[0m\n\u001b[0;32m    327\u001b[0m n, d \u001b[39m=\u001b[39m x\u001b[39m.\u001b[39mshape\n\u001b[0;32m    328\u001b[0m x \u001b[39m=\u001b[39m np\u001b[39m.\u001b[39mascontiguousarray(x, dtype\u001b[39m=\u001b[39m\u001b[39m'\u001b[39m\u001b[39mfloat32\u001b[39m\u001b[39m'\u001b[39m)\n\u001b[1;32m--> 329\u001b[0m \u001b[39massert\u001b[39;00m d \u001b[39m==\u001b[39m \u001b[39mself\u001b[39m\u001b[39m.\u001b[39md\n\u001b[0;32m    331\u001b[0m \u001b[39massert\u001b[39;00m k \u001b[39m>\u001b[39m \u001b[39m0\u001b[39m\n\u001b[0;32m    333\u001b[0m \u001b[39mif\u001b[39;00m D \u001b[39mis\u001b[39;00m \u001b[39mNone\u001b[39;00m:\n",
      "\u001b[1;31mAssertionError\u001b[0m: "
     ]
    }
   ],
   "source": [
    "# \"Hello Foo\" is returned first because \"hello world\" is mostly forgotten\n",
    "retriever.get_relevant_documents(\"hello world\")"
   ]
  },
  {
   "cell_type": "markdown",
   "metadata": {},
   "source": [
    "## Virtual time\n",
    "Using some utils in LangChain, you can mock out the time component."
   ]
  },
  {
   "cell_type": "code",
   "execution_count": null,
   "metadata": {},
   "outputs": [],
   "source": [
    "from langchain.utils import mock_now\n",
    "import datetime"
   ]
  },
  {
   "cell_type": "code",
   "execution_count": null,
   "metadata": {},
   "outputs": [],
   "source": [
    "# Notice the last access time is that date time\n",
    "with mock_now(datetime.datetime(2011, 2, 3, 10, 11)):\n",
    "    print(retriever.get_relevant_documents(\"hello world\"))"
   ]
  }
 ],
 "metadata": {
  "kernelspec": {
   "display_name": "langchain",
   "language": "python",
   "name": "python3"
  },
  "language_info": {
   "codemirror_mode": {
    "name": "ipython",
    "version": 3
   },
   "file_extension": ".py",
   "mimetype": "text/x-python",
   "name": "python",
   "nbconvert_exporter": "python",
   "pygments_lexer": "ipython3",
   "version": "3.10.13"
  }
 },
 "nbformat": 4,
 "nbformat_minor": 2
}
