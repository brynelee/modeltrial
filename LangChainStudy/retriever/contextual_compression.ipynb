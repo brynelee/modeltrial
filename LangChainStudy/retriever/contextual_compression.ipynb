{
 "cells": [
  {
   "cell_type": "code",
   "execution_count": 11,
   "metadata": {},
   "outputs": [
    {
     "name": "stdout",
     "output_type": "stream",
     "text": [
      "Document 1:\n",
      "\n",
      "二、人工智能技术安全发展\n",
      "加强人工智能技术应用和安全保障的能力，包括建立专门的人工智能安全技术团队，开发、评估、导入和应用人工智能安全技术，制定和实施人工智能安全策略，加强人工智能安全技术的研发和升级，参与人工智能安全技术和标准的制定，以及加强人工智能安全技术的培训和交流。\n",
      "人工智能技术在银行领域的应用广泛，以下是一些结合人工智能技术安全发展的银行相关业务的例子：\n",
      "1.智能风控：利用人工智能技术，银行可以建立完整的风控系统，进行信贷全生命周期风险管理、客户价值分析和预期客户管理。通过数据分析和机器学习等技术，银行可以理解和预测不同客户的行为和需求，为他们提供个性化的服务。同时，基于AI的技术，如面部和语音识别，客户在在线使用账户或进行交易时会有额外的保护。\n",
      "2.智能客户服务：AI可以用于执行常规活动，比如回答客户查询、执行付款和验证账户详细信息，从而为客户服务代表提供额外的时间来专注于更复杂的工作。AI还可以通过提供基于个体客户需求的定制建议来帮助增强客户服务。因此，AI为企业提供了提供更个性化和流畅体验的机会。\n",
      "3.智能反欺诈：随着技术的进步，欺诈者使用的策略也在发展。因此，银行正转向人工智能（AI）来帮助检测和防止这些犯罪行为。AI驱动的算法可以进行更全面的客户数据分析，帮助发现可能是欺诈的可疑活动。通过实施基于AI的方法，银行可以更快速和全面地保护客户的资金，建立信任和客户满意度。\n",
      "4.智能财务管理：人工智能（AI）有助于客户更有效地进行财务管理。例如，AI可以通过数据分析和预测帮助客户做出更好的财务决策。\n",
      "这些业务都是基于人工智能技术的安全发展的，旨在提高银行的效率和客户满意度，同时保护客户的信息和资金安全。\n",
      "----------------------------------------------------------------------------------------------------\n",
      "Document 2:\n",
      "\n",
      "三、促进文明互鉴，包容共生和发展网络文化产品\n",
      "加强文化交流和互鉴，包括对于文化和创意产业、教育培训、电子商务、文化交流活动等方面的参与和支持。\n",
      "以下是一些结合促进文明互鉴、包容共生和发展网络文化产品，银行相关业务的例子：\n",
      "1.跨境支付和结算：银行提供跨境支付和结算服务，促进不同国家和地区之间的经济交流和贸易合作。通过高效的跨境支付和结算系统，银行可以降低交易成本，提高资金使用效率，同时提供更安全、快捷的支付体验。\n",
      "2.数字货币：银行在数字货币领域扮演重要角色。数字货币是一种基于区块链技术的货币形式，具有去中心化、安全性高、交易效率高等特点。银行可以提供数字货币的交易、兑换和存储等服务，促进不同文明之间的经济交流和发展。\n",
      "3.线上文化产品交易：银行可以支持线上文化产品交易产品或平台，促进文化产品的流通和交易。通过与文化企业合作，银行可以推出具有地方特色的文化产品，同时提供安全的支付和交易服务，推动文化产业发展。\n",
      "4.互联网理财：银行在互联网理财领域具有丰富的经验和技术实力。可以提供各种理财产品和服务，包括货币基金、债券基金、股票基金等，满足不同投资者的需求。通过互联网渠道，银行可以扩大理财产品的覆盖面，提高金融服务效率，同时推动网络文化产品的创新和发展。\n",
      "5.移动支付：移动支付是现代社会中不可或缺的一部分。银行可以提供安全的移动支付解决方案，包括手机银行、支付宝、微信支付等，方便用户进行线上购物、缴费、转账等操作。这也有助于推动网络文化产品的流通和发展。\n",
      "这些业务旨在促进不同文明之间的交流和合作，推动经济发展和文化传承。银行在其中发挥着重要的角色，为人们提供更便捷、安全和高效的金融服务。\n",
      "----------------------------------------------------------------------------------------------------\n",
      "Document 3:\n",
      "\n",
      "一、保护客户的数据和信息安全\n",
      "银行需要采取多种措施和开展相关工作，以加强数据安全和信息保护的能力，包括完善数据安全和信息保护管理制度，加强技术防护，加强员工培训和意识提升，加强与监管部门的沟通和合作，定期进行安全漏洞扫描和风险评估，以及参与行业数据安全和信息保护的培训和交流活动。\n",
      "银行在保护客户的数据和信息安全方面采取了多种措施。以下是一些银行相关业务的例子：\n",
      "1.身份验证：银行采用多种身份验证方法，如用户名和密码、动态令牌、指纹识别等，以确保只有授权用户能够访问敏感信息和进行交易。\n",
      "2.加密技术：银行使用加密技术来保护客户数据在传输和存储过程中的安全性。例如，使用SSL/TLS协议对网上银行交易进行加密，确保数据在传输过程中不被窃取或篡改。\n",
      "3.数据备份和恢复：银行对重要数据和信息系统进行备份，以确保在发生故障或灾难时能够迅速恢复数据和业务运营。\n",
      "4.访问控制：银行对敏感信息和系统实行严格的访问控制，确保只有授权用户能够访问和修改数据。同时，银行还采用多层次的安全措施，如防火墙、入侵检测系统等，防止未经授权的访问和攻击。\n",
      "5.风险监测和报告：银行建立风险监测和报告机制，及时发现和处理潜在的安全威胁。这包括对异常交易、可疑行为、系统漏洞等的监测和报告。\n",
      "6.隐私保护：银行遵守相关法律法规和隐私政策，对客户数据进行保护。例如，银行在收集、处理、存储和传输客户信息时，需确保信息的合法性和安全性。\n",
      "7.内部培训：银行定期为员工提供安全意识和技能培训，提高员工对数据和信息安全的认识和防范能力。\n",
      "8.合规审计：银行定期进行合规审计和风险评估，确保其业务操作符合相关法律法规和内部政策的要求。\n",
      "这些措施有助于银行保护客户的数据和信息安全，维护客户的信任和声誉。\n",
      "----------------------------------------------------------------------------------------------------\n",
      "Document 4:\n",
      "\n",
      "四、促进网络主权、遵守国际规则、深化安全合作\n",
      "在促进网络主权、遵守国际规则、深化安全合作方面，包括跨境支付业务、电子商务贸易融资、信息安全保障，以及加强对国际支付规则的了解和遵守、开展电子商务贸易融资风险评估等等。\n",
      "从促进网络主权、遵守国际规则、深化安全合作方面，银行相关业务的例子：\n",
      "1.遵守国际规则和法规：银行在开展业务时，需遵守国际规则和法规，包括金融监管、反洗钱、反恐怖主义融资等。通过确保合规性，银行有助于维护网络主权，并深化与其他国家和地区的安全合作。\n",
      "2.跨境信息共享：为了遵守国际规则和深化安全合作，银行需与其他国家和国际组织建立信息共享机制。这有助于打击跨境金融犯罪、恐怖主义融资等活动，同时维护网络主权和安全。\n",
      "3.网络安全风险管理：银行致力于加强网络安全风险管理，以保护客户信息和资金安全。这包括采用最新的加密技术、建立严格的安全政策和流程、定期进行安全审计等。通过降低网络风险，银行有助于促进网络主权、遵守国际规则并深化安全合作。\n",
      "4.反洗钱和反恐怖主义融资：银行需履行反洗钱和反恐怖主义融资义务，以遵守国际规则并维护网络主权。这包括客户身份验证、可疑交易监测和报告、内部合规措施等。通过这些措施，银行有助于防止非法资金流动和恐怖主义融资活动。\n",
      "5.跨国合作项目：银行可以参与支持企业跨国合作项目，或与其他国家和地区的金融机构建立合作关系，有助于促进金融市场的互联互通，提高跨境金融服务的效率和质量，同时遵守国际规则和深化安全合作。\n",
      "这些业务旨在确保银行在遵守国际规则的同时，维护网络主权并深化安全合作。通过加强风险管理、履行合规义务、参与支持跨国合作项目等措施，银行有助于提高全球金融市场的效率和安全性。\n"
     ]
    }
   ],
   "source": [
    "# Helper function for printing docs\n",
    "\n",
    "def pretty_print_docs(docs):\n",
    "    print(f\"\\n{'-' * 100}\\n\".join([f\"Document {i+1}:\\n\\n\" + d.page_content for i, d in enumerate(docs)]))\n",
    "\n",
    "from langchain.text_splitter import CharacterTextSplitter\n",
    "from langchain.embeddings import OpenAIEmbeddings\n",
    "from langchain.document_loaders import TextLoader\n",
    "from langchain.vectorstores import FAISS\n",
    "\n",
    "from langchain.embeddings import LocalAIEmbeddings\n",
    "\n",
    "openai_api_base_address = \"http://172.23.115.108:20000/v1\"\n",
    "\n",
    "# 这个可以工作，使用服务化embedding模型\n",
    "embedding_model=LocalAIEmbeddings(openai_api_key = \"aaabbbcccdddeeefffedddsfasdfasdf\",  \n",
    "                            openai_api_base = openai_api_base_address,\n",
    "                            model = \"chatglm3-6b-32k\")\n",
    "\n",
    "\"\"\" from langchain.embeddings import HuggingFaceEmbeddings\n",
    "embedding_model = HuggingFaceEmbeddings(model_name = \"moka-ai/m3e-base\") \"\"\"\n",
    "\n",
    "documents = TextLoader('../../docs/Internet_Sec_Principles.txt').load()\n",
    "text_splitter = CharacterTextSplitter(chunk_size=1000, chunk_overlap=0)\n",
    "texts = text_splitter.split_documents(documents)\n",
    "retriever = FAISS.from_documents(texts, embedding_model).as_retriever()\n",
    "\n",
    "docs = retriever.get_relevant_documents(\"人工智能安全\")\n",
    "pretty_print_docs(docs)"
   ]
  },
  {
   "cell_type": "code",
   "execution_count": 12,
   "metadata": {},
   "outputs": [
    {
     "name": "stderr",
     "output_type": "stream",
     "text": [
      "/home/xiaodong/miniconda3/envs/langchain/lib/python3.10/site-packages/langchain/chains/llm.py:321: UserWarning: The predict_and_parse method is deprecated, instead pass an output parser directly to LLMChain.\n",
      "  warnings.warn(\n",
      "/home/xiaodong/miniconda3/envs/langchain/lib/python3.10/site-packages/langchain/chains/llm.py:321: UserWarning: The predict_and_parse method is deprecated, instead pass an output parser directly to LLMChain.\n",
      "  warnings.warn(\n",
      "/home/xiaodong/miniconda3/envs/langchain/lib/python3.10/site-packages/langchain/chains/llm.py:321: UserWarning: The predict_and_parse method is deprecated, instead pass an output parser directly to LLMChain.\n",
      "  warnings.warn(\n",
      "/home/xiaodong/miniconda3/envs/langchain/lib/python3.10/site-packages/langchain/chains/llm.py:321: UserWarning: The predict_and_parse method is deprecated, instead pass an output parser directly to LLMChain.\n",
      "  warnings.warn(\n"
     ]
    },
    {
     "name": "stdout",
     "output_type": "stream",
     "text": [
      "Document 1:\n",
      "\n",
      "这些业务都是基于人工智能技术的安全发展的，旨在提高银行的效率和客户满意度，同时保护客户的信息和资金安全。\n",
      "----------------------------------------------------------------------------------------------------\n",
      "Document 2:\n",
      "\n",
      "以下是一些结合促进文明互鉴、包容共生和发展网络文化产品，银行相关业务的例子：\n",
      "1.跨境支付和结算：银行提供跨境支付和结算服务，促进不同国家和地区之间的经济交流和贸易合作。通过高效的跨境支付和结算系统，银行可以降低交易成本，提高资金使用效率，同时提供更安全、快捷的支付体验。\n",
      "2.数字货币：银行在数字货币领域扮演重要角色。数字货币是一种基于区块链技术的货币形式，具有去中心化、安全性高、交易效率高等特点。银行可以提供数字货币的交易、兑换和存储等服务，促进不同文明之间的经济交流和发展。\n",
      "3.线上文化产品交易：银行可以支持线上文化产品交易产品或平台，促进文化产品的流通和交易。通过与文化企业合作，银行可以推出具有地方特色的文化产品，同时提供安全的支付和交易服务，推动文化产业发展。\n",
      "4.互联网理财：银行在互联网理财领域具有丰富的经验和技术实力。可以提供各种理财产品和服务，包括货币基金、债券基金、股票基金等，满足不同投资者的需求。通过互联网渠道，银行可以扩大理财产品的覆盖面，提高金融服务效率，同时推动网络文化产品的创新和发展。\n",
      "5.移动支付：移动支付是现代社会中不可或缺的一部分。银行可以提供安全的移动支付解决方案，包括手机银行、支付宝、微信支付等，方便用户进行线上购物、缴费、转账等操作。这也有助于推动网络文化产品的流通和发展。\n",
      "----------------------------------------------------------------------------------------------------\n",
      "Document 3:\n",
      "\n",
      "银行采用多种身份验证方法，如用户名和密码、动态令牌、指纹识别等，以确保只有授权用户能够访问敏感信息和进行交易。\n",
      "----------------------------------------------------------------------------------------------------\n",
      "Document 4:\n",
      "\n",
      "跨境支付业务、电子商务贸易融资、信息安全保障，以及加强对国际支付规则的了解和遵守、开展电子商务贸易融资风险评估等等。\n"
     ]
    }
   ],
   "source": [
    "from langchain.retrievers import ContextualCompressionRetriever\n",
    "from langchain.retrievers.document_compressors import LLMChainExtractor\n",
    "\n",
    "from langchain.chat_models import ChatOpenAI\n",
    "openai_api_base_address = \"http://172.23.115.108:20000/v1\"\n",
    "\n",
    "llm = ChatOpenAI(openai_api_key = \"aaabbbcccdddeeefffedddsfasdfasdf\", \n",
    "    openai_api_base = openai_api_base_address,\n",
    "    model_name = \"chatglm3-6b-32k\")\n",
    "\n",
    "# llm = OpenAI(temperature=0)\n",
    "compressor = LLMChainExtractor.from_llm(llm)\n",
    "compression_retriever = ContextualCompressionRetriever(base_compressor=compressor, base_retriever=retriever)\n",
    "\n",
    "compressed_docs = compression_retriever.get_relevant_documents(\"人工智能安全\")\n",
    "pretty_print_docs(compressed_docs)"
   ]
  },
  {
   "cell_type": "code",
   "execution_count": 13,
   "metadata": {},
   "outputs": [
    {
     "name": "stderr",
     "output_type": "stream",
     "text": [
      "/home/xiaodong/miniconda3/envs/langchain/lib/python3.10/site-packages/langchain/chains/llm.py:321: UserWarning: The predict_and_parse method is deprecated, instead pass an output parser directly to LLMChain.\n",
      "  warnings.warn(\n",
      "/home/xiaodong/miniconda3/envs/langchain/lib/python3.10/site-packages/langchain/chains/llm.py:321: UserWarning: The predict_and_parse method is deprecated, instead pass an output parser directly to LLMChain.\n",
      "  warnings.warn(\n",
      "/home/xiaodong/miniconda3/envs/langchain/lib/python3.10/site-packages/langchain/chains/llm.py:321: UserWarning: The predict_and_parse method is deprecated, instead pass an output parser directly to LLMChain.\n",
      "  warnings.warn(\n",
      "/home/xiaodong/miniconda3/envs/langchain/lib/python3.10/site-packages/langchain/chains/llm.py:321: UserWarning: The predict_and_parse method is deprecated, instead pass an output parser directly to LLMChain.\n",
      "  warnings.warn(\n"
     ]
    },
    {
     "name": "stdout",
     "output_type": "stream",
     "text": [
      "Document 1:\n",
      "\n",
      "二、人工智能技术安全发展\n",
      "加强人工智能技术应用和安全保障的能力，包括建立专门的人工智能安全技术团队，开发、评估、导入和应用人工智能安全技术，制定和实施人工智能安全策略，加强人工智能安全技术的研发和升级，参与人工智能安全技术和标准的制定，以及加强人工智能安全技术的培训和交流。\n",
      "人工智能技术在银行领域的应用广泛，以下是一些结合人工智能技术安全发展的银行相关业务的例子：\n",
      "1.智能风控：利用人工智能技术，银行可以建立完整的风控系统，进行信贷全生命周期风险管理、客户价值分析和预期客户管理。通过数据分析和机器学习等技术，银行可以理解和预测不同客户的行为和需求，为他们提供个性化的服务。同时，基于AI的技术，如面部和语音识别，客户在在线使用账户或进行交易时会有额外的保护。\n",
      "2.智能客户服务：AI可以用于执行常规活动，比如回答客户查询、执行付款和验证账户详细信息，从而为客户服务代表提供额外的时间来专注于更复杂的工作。AI还可以通过提供基于个体客户需求的定制建议来帮助增强客户服务。因此，AI为企业提供了提供更个性化和流畅体验的机会。\n",
      "3.智能反欺诈：随着技术的进步，欺诈者使用的策略也在发展。因此，银行正转向人工智能（AI）来帮助检测和防止这些犯罪行为。AI驱动的算法可以进行更全面的客户数据分析，帮助发现可能是欺诈的可疑活动。通过实施基于AI的方法，银行可以更快速和全面地保护客户的资金，建立信任和客户满意度。\n",
      "4.智能财务管理：人工智能（AI）有助于客户更有效地进行财务管理。例如，AI可以通过数据分析和预测帮助客户做出更好的财务决策。\n",
      "这些业务都是基于人工智能技术的安全发展的，旨在提高银行的效率和客户满意度，同时保护客户的信息和资金安全。\n",
      "----------------------------------------------------------------------------------------------------\n",
      "Document 2:\n",
      "\n",
      "一、保护客户的数据和信息安全\n",
      "银行需要采取多种措施和开展相关工作，以加强数据安全和信息保护的能力，包括完善数据安全和信息保护管理制度，加强技术防护，加强员工培训和意识提升，加强与监管部门的沟通和合作，定期进行安全漏洞扫描和风险评估，以及参与行业数据安全和信息保护的培训和交流活动。\n",
      "银行在保护客户的数据和信息安全方面采取了多种措施。以下是一些银行相关业务的例子：\n",
      "1.身份验证：银行采用多种身份验证方法，如用户名和密码、动态令牌、指纹识别等，以确保只有授权用户能够访问敏感信息和进行交易。\n",
      "2.加密技术：银行使用加密技术来保护客户数据在传输和存储过程中的安全性。例如，使用SSL/TLS协议对网上银行交易进行加密，确保数据在传输过程中不被窃取或篡改。\n",
      "3.数据备份和恢复：银行对重要数据和信息系统进行备份，以确保在发生故障或灾难时能够迅速恢复数据和业务运营。\n",
      "4.访问控制：银行对敏感信息和系统实行严格的访问控制，确保只有授权用户能够访问和修改数据。同时，银行还采用多层次的安全措施，如防火墙、入侵检测系统等，防止未经授权的访问和攻击。\n",
      "5.风险监测和报告：银行建立风险监测和报告机制，及时发现和处理潜在的安全威胁。这包括对异常交易、可疑行为、系统漏洞等的监测和报告。\n",
      "6.隐私保护：银行遵守相关法律法规和隐私政策，对客户数据进行保护。例如，银行在收集、处理、存储和传输客户信息时，需确保信息的合法性和安全性。\n",
      "7.内部培训：银行定期为员工提供安全意识和技能培训，提高员工对数据和信息安全的认识和防范能力。\n",
      "8.合规审计：银行定期进行合规审计和风险评估，确保其业务操作符合相关法律法规和内部政策的要求。\n",
      "这些措施有助于银行保护客户的数据和信息安全，维护客户的信任和声誉。\n"
     ]
    }
   ],
   "source": [
    "from langchain.retrievers.document_compressors import LLMChainFilter\n",
    "\n",
    "_filter = LLMChainFilter.from_llm(llm)\n",
    "compression_retriever = ContextualCompressionRetriever(base_compressor=_filter, base_retriever=retriever)\n",
    "\n",
    "compressed_docs = compression_retriever.get_relevant_documents(\"人工智能安全\")\n",
    "pretty_print_docs(compressed_docs)"
   ]
  },
  {
   "cell_type": "code",
   "execution_count": 14,
   "metadata": {},
   "outputs": [
    {
     "name": "stdout",
     "output_type": "stream",
     "text": [
      "Document 1:\n",
      "\n",
      "二、人工智能技术安全发展\n",
      "加强人工智能技术应用和安全保障的能力，包括建立专门的人工智能安全技术团队，开发、评估、导入和应用人工智能安全技术，制定和实施人工智能安全策略，加强人工智能安全技术的研发和升级，参与人工智能安全技术和标准的制定，以及加强人工智能安全技术的培训和交流。\n",
      "人工智能技术在银行领域的应用广泛，以下是一些结合人工智能技术安全发展的银行相关业务的例子：\n",
      "1.智能风控：利用人工智能技术，银行可以建立完整的风控系统，进行信贷全生命周期风险管理、客户价值分析和预期客户管理。通过数据分析和机器学习等技术，银行可以理解和预测不同客户的行为和需求，为他们提供个性化的服务。同时，基于AI的技术，如面部和语音识别，客户在在线使用账户或进行交易时会有额外的保护。\n",
      "2.智能客户服务：AI可以用于执行常规活动，比如回答客户查询、执行付款和验证账户详细信息，从而为客户服务代表提供额外的时间来专注于更复杂的工作。AI还可以通过提供基于个体客户需求的定制建议来帮助增强客户服务。因此，AI为企业提供了提供更个性化和流畅体验的机会。\n",
      "3.智能反欺诈：随着技术的进步，欺诈者使用的策略也在发展。因此，银行正转向人工智能（AI）来帮助检测和防止这些犯罪行为。AI驱动的算法可以进行更全面的客户数据分析，帮助发现可能是欺诈的可疑活动。通过实施基于AI的方法，银行可以更快速和全面地保护客户的资金，建立信任和客户满意度。\n",
      "4.智能财务管理：人工智能（AI）有助于客户更有效地进行财务管理。例如，AI可以通过数据分析和预测帮助客户做出更好的财务决策。\n",
      "这些业务都是基于人工智能技术的安全发展的，旨在提高银行的效率和客户满意度，同时保护客户的信息和资金安全。\n",
      "----------------------------------------------------------------------------------------------------\n",
      "Document 2:\n",
      "\n",
      "三、促进文明互鉴，包容共生和发展网络文化产品\n",
      "加强文化交流和互鉴，包括对于文化和创意产业、教育培训、电子商务、文化交流活动等方面的参与和支持。\n",
      "以下是一些结合促进文明互鉴、包容共生和发展网络文化产品，银行相关业务的例子：\n",
      "1.跨境支付和结算：银行提供跨境支付和结算服务，促进不同国家和地区之间的经济交流和贸易合作。通过高效的跨境支付和结算系统，银行可以降低交易成本，提高资金使用效率，同时提供更安全、快捷的支付体验。\n",
      "2.数字货币：银行在数字货币领域扮演重要角色。数字货币是一种基于区块链技术的货币形式，具有去中心化、安全性高、交易效率高等特点。银行可以提供数字货币的交易、兑换和存储等服务，促进不同文明之间的经济交流和发展。\n",
      "3.线上文化产品交易：银行可以支持线上文化产品交易产品或平台，促进文化产品的流通和交易。通过与文化企业合作，银行可以推出具有地方特色的文化产品，同时提供安全的支付和交易服务，推动文化产业发展。\n",
      "4.互联网理财：银行在互联网理财领域具有丰富的经验和技术实力。可以提供各种理财产品和服务，包括货币基金、债券基金、股票基金等，满足不同投资者的需求。通过互联网渠道，银行可以扩大理财产品的覆盖面，提高金融服务效率，同时推动网络文化产品的创新和发展。\n",
      "5.移动支付：移动支付是现代社会中不可或缺的一部分。银行可以提供安全的移动支付解决方案，包括手机银行、支付宝、微信支付等，方便用户进行线上购物、缴费、转账等操作。这也有助于推动网络文化产品的流通和发展。\n",
      "这些业务旨在促进不同文明之间的交流和合作，推动经济发展和文化传承。银行在其中发挥着重要的角色，为人们提供更便捷、安全和高效的金融服务。\n"
     ]
    }
   ],
   "source": [
    "from langchain.embeddings import OpenAIEmbeddings\n",
    "from langchain.retrievers.document_compressors import EmbeddingsFilter\n",
    "\n",
    "# embeddings = OpenAIEmbeddings()\n",
    "embeddings_filter = EmbeddingsFilter(embeddings=embedding_model, similarity_threshold=0.76)\n",
    "compression_retriever = ContextualCompressionRetriever(base_compressor=embeddings_filter, base_retriever=retriever)\n",
    "\n",
    "compressed_docs = compression_retriever.get_relevant_documents(\"人工智能安全\")\n",
    "pretty_print_docs(compressed_docs)"
   ]
  },
  {
   "cell_type": "code",
   "execution_count": 15,
   "metadata": {},
   "outputs": [],
   "source": [
    "from langchain.document_transformers import EmbeddingsRedundantFilter\n",
    "from langchain.retrievers.document_compressors import DocumentCompressorPipeline\n",
    "from langchain.text_splitter import CharacterTextSplitter\n",
    "\n",
    "splitter = CharacterTextSplitter(chunk_size=300, chunk_overlap=0, separator=\". \")\n",
    "redundant_filter = EmbeddingsRedundantFilter(embeddings=embedding_model)\n",
    "relevant_filter = EmbeddingsFilter(embeddings=embedding_model, similarity_threshold=0.76)\n",
    "pipeline_compressor = DocumentCompressorPipeline(\n",
    "    transformers=[splitter, redundant_filter, relevant_filter]\n",
    ")"
   ]
  },
  {
   "cell_type": "code",
   "execution_count": 16,
   "metadata": {},
   "outputs": [
    {
     "name": "stdout",
     "output_type": "stream",
     "text": [
      "Document 1:\n",
      "\n",
      "四、促进网络主权、遵守国际规则、深化安全合作\n",
      "在促进网络主权、遵守国际规则、深化安全合作方面，包括跨境支付业务、电子商务贸易融资、信息安全保障，以及加强对国际支付规则的了解和遵守、开展电子商务贸易融资风险评估等等。\n",
      "从促进网络主权、遵守国际规则、深化安全合作方面，银行相关业务的例子：\n",
      "1.遵守国际规则和法规：银行在开展业务时，需遵守国际规则和法规，包括金融监管、反洗钱、反恐怖主义融资等。通过确保合规性，银行有助于维护网络主权，并深化与其他国家和地区的安全合作。\n",
      "2.跨境信息共享：为了遵守国际规则和深化安全合作，银行需与其他国家和国际组织建立信息共享机制。这有助于打击跨境金融犯罪、恐怖主义融资等活动，同时维护网络主权和安全。\n",
      "3.网络安全风险管理：银行致力于加强网络安全风险管理，以保护客户信息和资金安全。这包括采用最新的加密技术、建立严格的安全政策和流程、定期进行安全审计等。通过降低网络风险，银行有助于促进网络主权、遵守国际规则并深化安全合作。\n",
      "4.反洗钱和反恐怖主义融资：银行需履行反洗钱和反恐怖主义融资义务，以遵守国际规则并维护网络主权。这包括客户身份验证、可疑交易监测和报告、内部合规措施等。通过这些措施，银行有助于防止非法资金流动和恐怖主义融资活动。\n",
      "5.跨国合作项目：银行可以参与支持企业跨国合作项目，或与其他国家和地区的金融机构建立合作关系，有助于促进金融市场的互联互通，提高跨境金融服务的效率和质量，同时遵守国际规则和深化安全合作。\n",
      "这些业务旨在确保银行在遵守国际规则的同时，维护网络主权并深化安全合作。通过加强风险管理、履行合规义务、参与支持跨国合作项目等措施，银行有助于提高全球金融市场的效率和安全性。\n"
     ]
    }
   ],
   "source": [
    "compression_retriever = ContextualCompressionRetriever(base_compressor=pipeline_compressor, base_retriever=retriever)\n",
    "\n",
    "compressed_docs = compression_retriever.get_relevant_documents(\"人工智能安全相关\")\n",
    "pretty_print_docs(compressed_docs)"
   ]
  }
 ],
 "metadata": {
  "kernelspec": {
   "display_name": "langchain",
   "language": "python",
   "name": "python3"
  },
  "language_info": {
   "codemirror_mode": {
    "name": "ipython",
    "version": 3
   },
   "file_extension": ".py",
   "mimetype": "text/x-python",
   "name": "python",
   "nbconvert_exporter": "python",
   "pygments_lexer": "ipython3",
   "version": "3.10.13"
  }
 },
 "nbformat": 4,
 "nbformat_minor": 2
}
