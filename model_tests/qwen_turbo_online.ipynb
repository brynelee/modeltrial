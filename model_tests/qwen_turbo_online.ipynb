{
 "cells": [
  {
   "cell_type": "markdown",
   "metadata": {},
   "source": [
    "通过message方式调用"
   ]
  },
  {
   "cell_type": "code",
   "execution_count": 1,
   "metadata": {},
   "outputs": [],
   "source": [
    "from http import HTTPStatus\n",
    "import dashscope\n",
    "from dashscope import Generation\n",
    "from dashscope.api_entities.dashscope_response import Role\n",
    "import os"
   ]
  },
  {
   "cell_type": "code",
   "execution_count": 2,
   "metadata": {},
   "outputs": [],
   "source": [
    "def conversation_with_messages():\n",
    "    messages = [{'role': Role.SYSTEM, 'content': 'You are a helpful assistant.'},\n",
    "                {'role': Role.USER, 'content': '如何做西红柿炖牛腩？'}]\n",
    "    dashscope.api_key=os.environ['DASHSCOPE_API_KEY']\n",
    "    response = Generation.call(\n",
    "        Generation.Models.qwen_turbo,\n",
    "        messages=messages,\n",
    "        result_format='message',  # set the result to be \"message\" format.\n",
    "    )\n",
    "    if response.status_code == HTTPStatus.OK:\n",
    "        print(response)\n",
    "        # append result to messages.\n",
    "        messages.append({'role': response.output.choices[0]['message']['role'],\n",
    "                         'content': response.output.choices[0]['message']['content']})\n",
    "    else:\n",
    "        print('Request id: %s, Status code: %s, error code: %s, error message: %s' % (\n",
    "            response.request_id, response.status_code,\n",
    "            response.code, response.message\n",
    "        ))\n",
    "    messages.append({'role': Role.USER, 'content': '不放糖可以吗？'})\n",
    "    # make second round call\n",
    "    response = Generation.call(\n",
    "        Generation.Models.qwen_turbo,\n",
    "        messages=messages,\n",
    "        result_format='message',  # set the result to be \"message\" format.\n",
    "    )\n",
    "    if response.status_code == HTTPStatus.OK:\n",
    "        print(response)\n",
    "    else:\n",
    "        print('Request id: %s, Status code: %s, error code: %s, error message: %s' % (\n",
    "            response.request_id, response.status_code,\n",
    "            response.code, response.message\n",
    "        ))"
   ]
  },
  {
   "cell_type": "code",
   "execution_count": 3,
   "metadata": {},
   "outputs": [
    {
     "name": "stdout",
     "output_type": "stream",
     "text": [
      "{\"status_code\": 200, \"request_id\": \"41abd442-b347-95b1-84f5-7f7aaf299a03\", \"code\": \"\", \"message\": \"\", \"output\": {\"text\": null, \"finish_reason\": null, \"choices\": [{\"finish_reason\": \"stop\", \"message\": {\"role\": \"assistant\", \"content\": \"材料：牛腩1000克，西红柿2个，大葱1根，姜3片，蒜瓣6粒，八角1颗，桂皮1小块，香叶2片，干辣椒2只，生抽2勺，老抽1勺，料酒2勺，冰糖20克，盐适量\\n\\n做法：\\n\\n1. 牛腩洗净切块，放沸水中焯水去血沫捞出备用。\\n2. 西红柿顶部划十字刀口，放入沸水中烫一下去皮，切滚刀块备用。\\n3. 大葱切段、姜切片、蒜瓣剥好。锅内油烧热，下入大葱段、姜片、蒜瓣、八角、桂皮、香叶和干辣椒炒香。\\n4. 下入牛腩翻炒均匀，烹入料酒炒匀后，加入生抽和老抽炒至上色。\\n5. 加入足量热水（没过牛腩），大火煮开后撇去浮沫，转中小火慢慢炖煮至牛腩软烂，约需1小时以上。\\n6. 当牛腩炖至8成熟时，加入西红柿块继续炖煮，炖煮至西红柿软烂且汤汁浓稠即可，最后调入适量的盐调味。\\n\\n西红柿炖牛腩就做好了！\"}}]}, \"usage\": {\"input_tokens\": 13, \"output_tokens\": 286, \"total_tokens\": 299}}\n",
      "{\"status_code\": 200, \"request_id\": \"b4ec10bf-d1e9-9008-82a2-7a07ee51d89f\", \"code\": \"\", \"message\": \"\", \"output\": {\"text\": null, \"finish_reason\": null, \"choices\": [{\"finish_reason\": \"stop\", \"message\": {\"role\": \"assistant\", \"content\": \"可以的，如果不喜欢甜味，可以不放冰糖或者减少用量。不过需要注意的是，糖能够增加菜肴的鲜美口感和色泽，如果你不放糖，可能会让菜肴的味道变得有些平淡无味。另外，糖还能够中和牛肉的腥味，如果没有糖的话，可能需要在炖煮的过程中多加一些调料来提味。\"}}]}, \"usage\": {\"input_tokens\": 305, \"output_tokens\": 77, \"total_tokens\": 382}}\n"
     ]
    }
   ],
   "source": [
    "conversation_with_messages()"
   ]
  },
  {
   "cell_type": "markdown",
   "metadata": {},
   "source": [
    "Prompt 方式调用"
   ]
  },
  {
   "cell_type": "code",
   "execution_count": 4,
   "metadata": {},
   "outputs": [],
   "source": [
    "# For prerequisites running the following sample, visit https://help.aliyun.com/document_detail/611472.html\n",
    "from http import HTTPStatus\n",
    "import dashscope\n",
    "def call_with_prompt():\n",
    "    response = dashscope.Generation.call(\n",
    "        model=dashscope.Generation.Models.qwen_turbo,\n",
    "        prompt='如何做炒西红柿鸡蛋？'\n",
    "    )\n",
    "    # The response status_code is HTTPStatus.OK indicate success,\n",
    "    # otherwise indicate request is failed, you can get error code\n",
    "    # and message from code and message.\n",
    "    if response.status_code == HTTPStatus.OK:\n",
    "        print(response.output)  # The output text\n",
    "        print(response.usage)  # The usage information\n",
    "    else:\n",
    "        print(response.code)  # The error code.\n",
    "        print(response.message)  # The error message.\n",
    "\n"
   ]
  },
  {
   "cell_type": "code",
   "execution_count": 5,
   "metadata": {},
   "outputs": [
    {
     "name": "stdout",
     "output_type": "stream",
     "text": [
      "{\"text\": \"材料：鸡蛋2个，西红柿1个。\\n\\n做法：\\n\\n1. 鸡蛋打入碗中搅拌均匀备用；\\n\\n2. 西红柿洗净切块备用；\\n\\n3. 热锅凉油，油热后放入搅拌好的鸡蛋液，用筷子快速划散成小块，凝固即可盛出备用；\\n\\n4. 锅内再加少量底油，放入西红柿翻炒出汁，倒入炒好的鸡蛋，加入适量盐、糖调味翻匀即可。\", \"finish_reason\": \"stop\", \"choices\": null}\n",
      "{\"input_tokens\": 6, \"output_tokens\": 106, \"total_tokens\": 112}\n"
     ]
    }
   ],
   "source": [
    "call_with_prompt()"
   ]
  },
  {
   "cell_type": "markdown",
   "metadata": {},
   "source": [
    "流式输出"
   ]
  },
  {
   "cell_type": "code",
   "execution_count": 6,
   "metadata": {},
   "outputs": [],
   "source": [
    "from http import HTTPStatus\n",
    "from dashscope import Generation\n",
    "\n",
    "\n",
    "def call_with_stream():\n",
    "    messages = [\n",
    "        {'role': 'user', 'content': '如何做西红柿炖牛腩？'}]\n",
    "    responses = Generation.call(\n",
    "        Generation.Models.qwen_turbo,\n",
    "        messages=messages,\n",
    "        result_format='message',  # set the result to be \"message\" format.\n",
    "        stream=True,\n",
    "        incremental_output=True  # get streaming output incrementally\n",
    "    )\n",
    "    full_content = ''  # with incrementally we need to merge output.\n",
    "    for response in responses:\n",
    "        if response.status_code == HTTPStatus.OK:\n",
    "            full_content += response.output.choices[0]['message']['content']\n",
    "            print(response)\n",
    "        else:\n",
    "            print('Request id: %s, Status code: %s, error code: %s, error message: %s' % (\n",
    "                response.request_id, response.status_code,\n",
    "                response.code, response.message\n",
    "            ))\n",
    "    print('Full response:\\n' + full_content)\n"
   ]
  },
  {
   "cell_type": "code",
   "execution_count": 7,
   "metadata": {},
   "outputs": [
    {
     "name": "stdout",
     "output_type": "stream",
     "text": [
      "{\"status_code\": 200, \"request_id\": \"8895356b-a620-9103-a5bf-7e8574080867\", \"code\": \"\", \"message\": \"\", \"output\": {\"text\": null, \"finish_reason\": null, \"choices\": [{\"finish_reason\": \"null\", \"message\": {\"role\": \"assistant\", \"content\": \"材料\"}}]}, \"usage\": {\"input_tokens\": 7, \"output_tokens\": 1, \"total_tokens\": 8}}\n",
      "{\"status_code\": 200, \"request_id\": \"8895356b-a620-9103-a5bf-7e8574080867\", \"code\": \"\", \"message\": \"\", \"output\": {\"text\": null, \"finish_reason\": null, \"choices\": [{\"finish_reason\": \"null\", \"message\": {\"role\": \"assistant\", \"content\": \"：牛腩1000克，\"}}]}, \"usage\": {\"input_tokens\": 7, \"output_tokens\": 10, \"total_tokens\": 17}}\n",
      "{\"status_code\": 200, \"request_id\": \"8895356b-a620-9103-a5bf-7e8574080867\", \"code\": \"\", \"message\": \"\", \"output\": {\"text\": null, \"finish_reason\": null, \"choices\": [{\"finish_reason\": \"null\", \"message\": {\"role\": \"assistant\", \"content\": \"西红柿2个，大葱1根，姜3\"}}]}, \"usage\": {\"input_tokens\": 7, \"output_tokens\": 21, \"total_tokens\": 28}}\n",
      "{\"status_code\": 200, \"request_id\": \"8895356b-a620-9103-a5bf-7e8574080867\", \"code\": \"\", \"message\": \"\", \"output\": {\"text\": null, \"finish_reason\": null, \"choices\": [{\"finish_reason\": \"null\", \"message\": {\"role\": \"assistant\", \"content\": \"片，蒜瓣6粒，八角1\"}}]}, \"usage\": {\"input_tokens\": 7, \"output_tokens\": 31, \"total_tokens\": 38}}\n",
      "{\"status_code\": 200, \"request_id\": \"8895356b-a620-9103-a5bf-7e8574080867\", \"code\": \"\", \"message\": \"\", \"output\": {\"text\": null, \"finish_reason\": null, \"choices\": [{\"finish_reason\": \"null\", \"message\": {\"role\": \"assistant\", \"content\": \"颗，桂皮1小块，香叶2\"}}]}, \"usage\": {\"input_tokens\": 7, \"output_tokens\": 42, \"total_tokens\": 49}}\n",
      "{\"status_code\": 200, \"request_id\": \"8895356b-a620-9103-a5bf-7e8574080867\", \"code\": \"\", \"message\": \"\", \"output\": {\"text\": null, \"finish_reason\": null, \"choices\": [{\"finish_reason\": \"null\", \"message\": {\"role\": \"assistant\", \"content\": \"片，干辣椒2只，生抽2勺\"}}]}, \"usage\": {\"input_tokens\": 7, \"output_tokens\": 53, \"total_tokens\": 60}}\n",
      "{\"status_code\": 200, \"request_id\": \"8895356b-a620-9103-a5bf-7e8574080867\", \"code\": \"\", \"message\": \"\", \"output\": {\"text\": null, \"finish_reason\": null, \"choices\": [{\"finish_reason\": \"null\", \"message\": {\"role\": \"assistant\", \"content\": \"，老抽1勺，料酒2勺\"}}]}, \"usage\": {\"input_tokens\": 7, \"output_tokens\": 63, \"total_tokens\": 70}}\n",
      "{\"status_code\": 200, \"request_id\": \"8895356b-a620-9103-a5bf-7e8574080867\", \"code\": \"\", \"message\": \"\", \"output\": {\"text\": null, \"finish_reason\": null, \"choices\": [{\"finish_reason\": \"null\", \"message\": {\"role\": \"assistant\", \"content\": \"，冰糖20克，盐适量\\n\\n做法\"}}]}, \"usage\": {\"input_tokens\": 7, \"output_tokens\": 74, \"total_tokens\": 81}}\n",
      "{\"status_code\": 200, \"request_id\": \"8895356b-a620-9103-a5bf-7e8574080867\", \"code\": \"\", \"message\": \"\", \"output\": {\"text\": null, \"finish_reason\": null, \"choices\": [{\"finish_reason\": \"null\", \"message\": {\"role\": \"assistant\", \"content\": \"：\\n\\n1. 牛腩洗净切块，\"}}]}, \"usage\": {\"input_tokens\": 7, \"output_tokens\": 84, \"total_tokens\": 91}}\n",
      "{\"status_code\": 200, \"request_id\": \"8895356b-a620-9103-a5bf-7e8574080867\", \"code\": \"\", \"message\": \"\", \"output\": {\"text\": null, \"finish_reason\": null, \"choices\": [{\"finish_reason\": \"null\", \"message\": {\"role\": \"assistant\", \"content\": \"放沸水中焯水去血沫捞出备用\"}}]}, \"usage\": {\"input_tokens\": 7, \"output_tokens\": 95, \"total_tokens\": 102}}\n",
      "{\"status_code\": 200, \"request_id\": \"8895356b-a620-9103-a5bf-7e8574080867\", \"code\": \"\", \"message\": \"\", \"output\": {\"text\": null, \"finish_reason\": null, \"choices\": [{\"finish_reason\": \"null\", \"message\": {\"role\": \"assistant\", \"content\": \"。\\n2. 西红柿顶部划十字\"}}]}, \"usage\": {\"input_tokens\": 7, \"output_tokens\": 105, \"total_tokens\": 112}}\n",
      "{\"status_code\": 200, \"request_id\": \"8895356b-a620-9103-a5bf-7e8574080867\", \"code\": \"\", \"message\": \"\", \"output\": {\"text\": null, \"finish_reason\": null, \"choices\": [{\"finish_reason\": \"null\", \"message\": {\"role\": \"assistant\", \"content\": \"刀口，放入沸水中烫一下去皮，\"}}]}, \"usage\": {\"input_tokens\": 7, \"output_tokens\": 116, \"total_tokens\": 123}}\n",
      "{\"status_code\": 200, \"request_id\": \"8895356b-a620-9103-a5bf-7e8574080867\", \"code\": \"\", \"message\": \"\", \"output\": {\"text\": null, \"finish_reason\": null, \"choices\": [{\"finish_reason\": \"null\", \"message\": {\"role\": \"assistant\", \"content\": \"切滚刀块备用。\\n3. 大\"}}]}, \"usage\": {\"input_tokens\": 7, \"output_tokens\": 126, \"total_tokens\": 133}}\n",
      "{\"status_code\": 200, \"request_id\": \"8895356b-a620-9103-a5bf-7e8574080867\", \"code\": \"\", \"message\": \"\", \"output\": {\"text\": null, \"finish_reason\": null, \"choices\": [{\"finish_reason\": \"null\", \"message\": {\"role\": \"assistant\", \"content\": \"葱切段、姜切片、蒜瓣剥\"}}]}, \"usage\": {\"input_tokens\": 7, \"output_tokens\": 137, \"total_tokens\": 144}}\n",
      "{\"status_code\": 200, \"request_id\": \"8895356b-a620-9103-a5bf-7e8574080867\", \"code\": \"\", \"message\": \"\", \"output\": {\"text\": null, \"finish_reason\": null, \"choices\": [{\"finish_reason\": \"null\", \"message\": {\"role\": \"assistant\", \"content\": \"好。锅内油烧热，下入\"}}]}, \"usage\": {\"input_tokens\": 7, \"output_tokens\": 147, \"total_tokens\": 154}}\n",
      "{\"status_code\": 200, \"request_id\": \"8895356b-a620-9103-a5bf-7e8574080867\", \"code\": \"\", \"message\": \"\", \"output\": {\"text\": null, \"finish_reason\": null, \"choices\": [{\"finish_reason\": \"null\", \"message\": {\"role\": \"assistant\", \"content\": \"大葱段、姜片、蒜瓣、八\"}}]}, \"usage\": {\"input_tokens\": 7, \"output_tokens\": 158, \"total_tokens\": 165}}\n",
      "{\"status_code\": 200, \"request_id\": \"8895356b-a620-9103-a5bf-7e8574080867\", \"code\": \"\", \"message\": \"\", \"output\": {\"text\": null, \"finish_reason\": null, \"choices\": [{\"finish_reason\": \"null\", \"message\": {\"role\": \"assistant\", \"content\": \"角、桂皮、香叶和干辣椒\"}}]}, \"usage\": {\"input_tokens\": 7, \"output_tokens\": 168, \"total_tokens\": 175}}\n",
      "{\"status_code\": 200, \"request_id\": \"8895356b-a620-9103-a5bf-7e8574080867\", \"code\": \"\", \"message\": \"\", \"output\": {\"text\": null, \"finish_reason\": null, \"choices\": [{\"finish_reason\": \"null\", \"message\": {\"role\": \"assistant\", \"content\": \"炒香。\\n4. 下入牛腩翻炒\"}}]}, \"usage\": {\"input_tokens\": 7, \"output_tokens\": 179, \"total_tokens\": 186}}\n",
      "{\"status_code\": 200, \"request_id\": \"8895356b-a620-9103-a5bf-7e8574080867\", \"code\": \"\", \"message\": \"\", \"output\": {\"text\": null, \"finish_reason\": null, \"choices\": [{\"finish_reason\": \"null\", \"message\": {\"role\": \"assistant\", \"content\": \"均匀，烹入料酒炒匀后，\"}}]}, \"usage\": {\"input_tokens\": 7, \"output_tokens\": 189, \"total_tokens\": 196}}\n",
      "{\"status_code\": 200, \"request_id\": \"8895356b-a620-9103-a5bf-7e8574080867\", \"code\": \"\", \"message\": \"\", \"output\": {\"text\": null, \"finish_reason\": null, \"choices\": [{\"finish_reason\": \"null\", \"message\": {\"role\": \"assistant\", \"content\": \"加入生抽和老抽炒至上色。\\n5\"}}]}, \"usage\": {\"input_tokens\": 7, \"output_tokens\": 200, \"total_tokens\": 207}}\n",
      "{\"status_code\": 200, \"request_id\": \"8895356b-a620-9103-a5bf-7e8574080867\", \"code\": \"\", \"message\": \"\", \"output\": {\"text\": null, \"finish_reason\": null, \"choices\": [{\"finish_reason\": \"null\", \"message\": {\"role\": \"assistant\", \"content\": \". 加入足量热水（没过牛\"}}]}, \"usage\": {\"input_tokens\": 7, \"output_tokens\": 210, \"total_tokens\": 217}}\n",
      "{\"status_code\": 200, \"request_id\": \"8895356b-a620-9103-a5bf-7e8574080867\", \"code\": \"\", \"message\": \"\", \"output\": {\"text\": null, \"finish_reason\": null, \"choices\": [{\"finish_reason\": \"null\", \"message\": {\"role\": \"assistant\", \"content\": \"腩），大火煮开后撇去浮沫\"}}]}, \"usage\": {\"input_tokens\": 7, \"output_tokens\": 220, \"total_tokens\": 227}}\n",
      "{\"status_code\": 200, \"request_id\": \"8895356b-a620-9103-a5bf-7e8574080867\", \"code\": \"\", \"message\": \"\", \"output\": {\"text\": null, \"finish_reason\": null, \"choices\": [{\"finish_reason\": \"null\", \"message\": {\"role\": \"assistant\", \"content\": \"，转中小火慢慢炖煮至牛腩软\"}}]}, \"usage\": {\"input_tokens\": 7, \"output_tokens\": 231, \"total_tokens\": 238}}\n",
      "{\"status_code\": 200, \"request_id\": \"8895356b-a620-9103-a5bf-7e8574080867\", \"code\": \"\", \"message\": \"\", \"output\": {\"text\": null, \"finish_reason\": null, \"choices\": [{\"finish_reason\": \"null\", \"message\": {\"role\": \"assistant\", \"content\": \"烂，约需1小时以上。\\n6.\"}}]}, \"usage\": {\"input_tokens\": 7, \"output_tokens\": 241, \"total_tokens\": 248}}\n",
      "{\"status_code\": 200, \"request_id\": \"8895356b-a620-9103-a5bf-7e8574080867\", \"code\": \"\", \"message\": \"\", \"output\": {\"text\": null, \"finish_reason\": null, \"choices\": [{\"finish_reason\": \"null\", \"message\": {\"role\": \"assistant\", \"content\": \" 当牛腩炖至8成熟时，加入西红柿\"}}]}, \"usage\": {\"input_tokens\": 7, \"output_tokens\": 252, \"total_tokens\": 259}}\n",
      "{\"status_code\": 200, \"request_id\": \"8895356b-a620-9103-a5bf-7e8574080867\", \"code\": \"\", \"message\": \"\", \"output\": {\"text\": null, \"finish_reason\": null, \"choices\": [{\"finish_reason\": \"null\", \"message\": {\"role\": \"assistant\", \"content\": \"块继续炖煮，炖煮至西红柿软\"}}]}, \"usage\": {\"input_tokens\": 7, \"output_tokens\": 262, \"total_tokens\": 269}}\n",
      "{\"status_code\": 200, \"request_id\": \"8895356b-a620-9103-a5bf-7e8574080867\", \"code\": \"\", \"message\": \"\", \"output\": {\"text\": null, \"finish_reason\": null, \"choices\": [{\"finish_reason\": \"null\", \"message\": {\"role\": \"assistant\", \"content\": \"烂且汤汁浓稠即可，最后调入\"}}]}, \"usage\": {\"input_tokens\": 7, \"output_tokens\": 273, \"total_tokens\": 280}}\n",
      "{\"status_code\": 200, \"request_id\": \"8895356b-a620-9103-a5bf-7e8574080867\", \"code\": \"\", \"message\": \"\", \"output\": {\"text\": null, \"finish_reason\": null, \"choices\": [{\"finish_reason\": \"null\", \"message\": {\"role\": \"assistant\", \"content\": \"适量的盐调味。\\n\\n西红柿炖牛腩就\"}}]}, \"usage\": {\"input_tokens\": 7, \"output_tokens\": 283, \"total_tokens\": 290}}\n",
      "{\"status_code\": 200, \"request_id\": \"8895356b-a620-9103-a5bf-7e8574080867\", \"code\": \"\", \"message\": \"\", \"output\": {\"text\": null, \"finish_reason\": null, \"choices\": [{\"finish_reason\": \"null\", \"message\": {\"role\": \"assistant\", \"content\": \"做好了！\"}}]}, \"usage\": {\"input_tokens\": 7, \"output_tokens\": 286, \"total_tokens\": 293}}\n",
      "{\"status_code\": 200, \"request_id\": \"8895356b-a620-9103-a5bf-7e8574080867\", \"code\": \"\", \"message\": \"\", \"output\": {\"text\": null, \"finish_reason\": null, \"choices\": [{\"finish_reason\": \"stop\", \"message\": {\"role\": \"assistant\", \"content\": \"\"}}]}, \"usage\": {\"input_tokens\": 7, \"output_tokens\": 286, \"total_tokens\": 293}}\n",
      "Full response:\n",
      "材料：牛腩1000克，西红柿2个，大葱1根，姜3片，蒜瓣6粒，八角1颗，桂皮1小块，香叶2片，干辣椒2只，生抽2勺，老抽1勺，料酒2勺，冰糖20克，盐适量\n",
      "\n",
      "做法：\n",
      "\n",
      "1. 牛腩洗净切块，放沸水中焯水去血沫捞出备用。\n",
      "2. 西红柿顶部划十字刀口，放入沸水中烫一下去皮，切滚刀块备用。\n",
      "3. 大葱切段、姜切片、蒜瓣剥好。锅内油烧热，下入大葱段、姜片、蒜瓣、八角、桂皮、香叶和干辣椒炒香。\n",
      "4. 下入牛腩翻炒均匀，烹入料酒炒匀后，加入生抽和老抽炒至上色。\n",
      "5. 加入足量热水（没过牛腩），大火煮开后撇去浮沫，转中小火慢慢炖煮至牛腩软烂，约需1小时以上。\n",
      "6. 当牛腩炖至8成熟时，加入西红柿块继续炖煮，炖煮至西红柿软烂且汤汁浓稠即可，最后调入适量的盐调味。\n",
      "\n",
      "西红柿炖牛腩就做好了！\n"
     ]
    }
   ],
   "source": [
    "call_with_stream()"
   ]
  }
 ],
 "metadata": {
  "kernelspec": {
   "display_name": "langchain",
   "language": "python",
   "name": "python3"
  },
  "language_info": {
   "codemirror_mode": {
    "name": "ipython",
    "version": 3
   },
   "file_extension": ".py",
   "mimetype": "text/x-python",
   "name": "python",
   "nbconvert_exporter": "python",
   "pygments_lexer": "ipython3",
   "version": "3.10.13"
  }
 },
 "nbformat": 4,
 "nbformat_minor": 2
}
